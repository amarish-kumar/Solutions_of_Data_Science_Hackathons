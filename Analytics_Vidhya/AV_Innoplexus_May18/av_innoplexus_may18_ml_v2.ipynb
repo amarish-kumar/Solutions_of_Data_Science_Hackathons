{
 "cells": [
  {
   "cell_type": "code",
   "execution_count": 121,
   "metadata": {},
   "outputs": [],
   "source": [
    "import warnings\n",
    "warnings.filterwarnings('ignore')\n",
    "import pandas as pd\n",
    "import numpy as np\n",
    "import difflib\n",
    "from fuzzywuzzy import fuzz\n",
    "import re\n",
    "from collections import Counter\n",
    "from nltk.corpus import stopwords"
   ]
  },
  {
   "cell_type": "code",
   "execution_count": 122,
   "metadata": {},
   "outputs": [],
   "source": [
    "from nltk.stem.porter import *\n",
    "stemmer = PorterStemmer()"
   ]
  },
  {
   "cell_type": "code",
   "execution_count": 2,
   "metadata": {},
   "outputs": [],
   "source": [
    "train = pd.read_csv('train.csv')\n",
    "test = pd.read_csv('test.csv')\n",
    "information_train = pd.read_csv('information_train.csv', sep = '\\t')\n",
    "information_test = pd.read_csv('information_test.csv', sep = '\\t')\n",
    "train_info = train.merge(information_train, on = 'pmid', how = 'inner')\n",
    "train_info['pub_date'] = pd.to_datetime(train_info['pub_date'])\n",
    "test_info = test.merge(information_test, on = 'pmid', how = 'inner')\n",
    "test_info['pub_date'] = pd.to_datetime(test_info['pub_date'])\n",
    "ref_all = [int(j) for i in train_info['ref_list'].values for j in eval(i)]"
   ]
  },
  {
   "cell_type": "code",
   "execution_count": 3,
   "metadata": {},
   "outputs": [
    {
     "data": {
      "text/html": [
       "<div>\n",
       "<style scoped>\n",
       "    .dataframe tbody tr th:only-of-type {\n",
       "        vertical-align: middle;\n",
       "    }\n",
       "\n",
       "    .dataframe tbody tr th {\n",
       "        vertical-align: top;\n",
       "    }\n",
       "\n",
       "    .dataframe thead th {\n",
       "        text-align: right;\n",
       "    }\n",
       "</style>\n",
       "<table border=\"1\" class=\"dataframe\">\n",
       "  <thead>\n",
       "    <tr style=\"text-align: right;\">\n",
       "      <th></th>\n",
       "      <th>pmid</th>\n",
       "      <th>ref_list</th>\n",
       "      <th>abstract</th>\n",
       "      <th>article_title</th>\n",
       "      <th>author_str</th>\n",
       "      <th>pub_date</th>\n",
       "      <th>set</th>\n",
       "      <th>full_Text</th>\n",
       "    </tr>\n",
       "  </thead>\n",
       "  <tbody>\n",
       "    <tr>\n",
       "      <th>0</th>\n",
       "      <td>17074820</td>\n",
       "      <td>['15153999', '15213210', '7668302']</td>\n",
       "      <td>Among bioethicists and members of the public, ...</td>\n",
       "      <td>The routinisation of genomics and genetics: im...</td>\n",
       "      <td>M W Foster, C D M Royal, R R Sharp</td>\n",
       "      <td>2006-11-01</td>\n",
       "      <td>13</td>\n",
       "      <td>NaN</td>\n",
       "    </tr>\n",
       "    <tr>\n",
       "      <th>1</th>\n",
       "      <td>15153999</td>\n",
       "      <td>['12721363', '9096352', '10788337', '9114021',...</td>\n",
       "      <td>Genomics resources that use samples from ident...</td>\n",
       "      <td>Integrating ethics and science in the Internat...</td>\n",
       "      <td>NaN</td>\n",
       "      <td>2008-02-25</td>\n",
       "      <td>13</td>\n",
       "      <td>NaN</td>\n",
       "    </tr>\n",
       "  </tbody>\n",
       "</table>\n",
       "</div>"
      ],
      "text/plain": [
       "       pmid                                           ref_list  \\\n",
       "0  17074820                ['15153999', '15213210', '7668302']   \n",
       "1  15153999  ['12721363', '9096352', '10788337', '9114021',...   \n",
       "\n",
       "                                            abstract  \\\n",
       "0  Among bioethicists and members of the public, ...   \n",
       "1  Genomics resources that use samples from ident...   \n",
       "\n",
       "                                       article_title  \\\n",
       "0  The routinisation of genomics and genetics: im...   \n",
       "1  Integrating ethics and science in the Internat...   \n",
       "\n",
       "                           author_str   pub_date  set full_Text  \n",
       "0  M W Foster, C D M Royal, R R Sharp 2006-11-01   13       NaN  \n",
       "1                                 NaN 2008-02-25   13       NaN  "
      ]
     },
     "execution_count": 3,
     "metadata": {},
     "output_type": "execute_result"
    }
   ],
   "source": [
    "train_info.head(2)"
   ]
  },
  {
   "cell_type": "markdown",
   "metadata": {},
   "source": [
    "# Preparing Training Set"
   ]
  },
  {
   "cell_type": "code",
   "execution_count": 46,
   "metadata": {},
   "outputs": [],
   "source": [
    "train_info['ref_list_new'] = train_info['ref_list'].apply(lambda x : eval(x))\n",
    "exp_train_info = train_info['ref_list_new'].apply(pd.Series).stack().rename('ref_list_new') .to_frame().reset_index(1, drop=True).join(train_info['pmid']).reset_index(drop=True).drop_duplicates()"
   ]
  },
  {
   "cell_type": "code",
   "execution_count": 47,
   "metadata": {},
   "outputs": [
    {
     "data": {
      "text/plain": [
       "((11517, 2), (3522, 9))"
      ]
     },
     "execution_count": 47,
     "metadata": {},
     "output_type": "execute_result"
    }
   ],
   "source": [
    "exp_train_info.shape, train_info.shape"
   ]
  },
  {
   "cell_type": "code",
   "execution_count": 69,
   "metadata": {},
   "outputs": [
    {
     "data": {
      "text/html": [
       "<div>\n",
       "<style scoped>\n",
       "    .dataframe tbody tr th:only-of-type {\n",
       "        vertical-align: middle;\n",
       "    }\n",
       "\n",
       "    .dataframe tbody tr th {\n",
       "        vertical-align: top;\n",
       "    }\n",
       "\n",
       "    .dataframe thead th {\n",
       "        text-align: right;\n",
       "    }\n",
       "</style>\n",
       "<table border=\"1\" class=\"dataframe\">\n",
       "  <thead>\n",
       "    <tr style=\"text-align: right;\">\n",
       "      <th></th>\n",
       "      <th>ref_list_new</th>\n",
       "      <th>pmid</th>\n",
       "      <th>label</th>\n",
       "    </tr>\n",
       "  </thead>\n",
       "  <tbody>\n",
       "    <tr>\n",
       "      <th>0</th>\n",
       "      <td>15153999</td>\n",
       "      <td>17074820</td>\n",
       "      <td>1</td>\n",
       "    </tr>\n",
       "    <tr>\n",
       "      <th>1</th>\n",
       "      <td>15213210</td>\n",
       "      <td>17074820</td>\n",
       "      <td>1</td>\n",
       "    </tr>\n",
       "    <tr>\n",
       "      <th>2</th>\n",
       "      <td>7668302</td>\n",
       "      <td>17074820</td>\n",
       "      <td>1</td>\n",
       "    </tr>\n",
       "    <tr>\n",
       "      <th>3</th>\n",
       "      <td>12721363</td>\n",
       "      <td>15153999</td>\n",
       "      <td>1</td>\n",
       "    </tr>\n",
       "    <tr>\n",
       "      <th>4</th>\n",
       "      <td>9096352</td>\n",
       "      <td>15153999</td>\n",
       "      <td>1</td>\n",
       "    </tr>\n",
       "  </tbody>\n",
       "</table>\n",
       "</div>"
      ],
      "text/plain": [
       "   ref_list_new      pmid  label\n",
       "0      15153999  17074820      1\n",
       "1      15213210  17074820      1\n",
       "2       7668302  17074820      1\n",
       "3      12721363  15153999      1\n",
       "4       9096352  15153999      1"
      ]
     },
     "execution_count": 69,
     "metadata": {},
     "output_type": "execute_result"
    }
   ],
   "source": [
    "exp_train_info['ref_list_new'] = pd.to_numeric(pd.Series(exp_train_info['ref_list_new']),errors='coerce')\n",
    "exp_train_info['label'] = 1\n",
    "exp_train_info.head()"
   ]
  },
  {
   "cell_type": "code",
   "execution_count": 62,
   "metadata": {},
   "outputs": [
    {
     "data": {
      "text/plain": [
       "dtype('int64')"
      ]
     },
     "execution_count": 62,
     "metadata": {},
     "output_type": "execute_result"
    }
   ],
   "source": [
    "exp_train_info['ref_list_new'].dtype"
   ]
  },
  {
   "cell_type": "code",
   "execution_count": 70,
   "metadata": {},
   "outputs": [],
   "source": [
    "non_ref_list = []\n",
    "pmid_list = []\n",
    "for i in train_info.index:\n",
    "    rw = train_info.iloc[i,:]\n",
    "    dt = rw['pub_date']\n",
    "    st = rw['set']\n",
    "    ref = eval(rw['ref_list'])\n",
    "    pmids = train_info[(train_info['pub_date'] < dt) & (train_info['set'] == st)]['pmid']\n",
    "    req_pmids = list(set(pmids) - set(ref))\n",
    "    for vv in req_pmids:\n",
    "        non_ref_list.append(vv)\n",
    "        pmid_list.append(int(rw['pmid']))"
   ]
  },
  {
   "cell_type": "code",
   "execution_count": 71,
   "metadata": {},
   "outputs": [],
   "source": [
    "non_exp_train_info = pd.DataFrame({'pmid':pmid_list,'ref_list_new':non_ref_list})\n",
    "non_exp_train_info['label'] = 0"
   ]
  },
  {
   "cell_type": "code",
   "execution_count": 72,
   "metadata": {},
   "outputs": [
    {
     "data": {
      "text/html": [
       "<div>\n",
       "<style scoped>\n",
       "    .dataframe tbody tr th:only-of-type {\n",
       "        vertical-align: middle;\n",
       "    }\n",
       "\n",
       "    .dataframe tbody tr th {\n",
       "        vertical-align: top;\n",
       "    }\n",
       "\n",
       "    .dataframe thead th {\n",
       "        text-align: right;\n",
       "    }\n",
       "</style>\n",
       "<table border=\"1\" class=\"dataframe\">\n",
       "  <thead>\n",
       "    <tr style=\"text-align: right;\">\n",
       "      <th></th>\n",
       "      <th>pmid</th>\n",
       "      <th>ref_list_new</th>\n",
       "      <th>label</th>\n",
       "    </tr>\n",
       "  </thead>\n",
       "  <tbody>\n",
       "    <tr>\n",
       "      <th>0</th>\n",
       "      <td>17074820</td>\n",
       "      <td>11466240</td>\n",
       "      <td>0</td>\n",
       "    </tr>\n",
       "    <tr>\n",
       "      <th>1</th>\n",
       "      <td>17074820</td>\n",
       "      <td>8524801</td>\n",
       "      <td>0</td>\n",
       "    </tr>\n",
       "    <tr>\n",
       "      <th>2</th>\n",
       "      <td>17074820</td>\n",
       "      <td>8651264</td>\n",
       "      <td>0</td>\n",
       "    </tr>\n",
       "    <tr>\n",
       "      <th>3</th>\n",
       "      <td>17074820</td>\n",
       "      <td>9529345</td>\n",
       "      <td>0</td>\n",
       "    </tr>\n",
       "    <tr>\n",
       "      <th>4</th>\n",
       "      <td>17074820</td>\n",
       "      <td>9311748</td>\n",
       "      <td>0</td>\n",
       "    </tr>\n",
       "  </tbody>\n",
       "</table>\n",
       "</div>"
      ],
      "text/plain": [
       "       pmid  ref_list_new  label\n",
       "0  17074820      11466240      0\n",
       "1  17074820       8524801      0\n",
       "2  17074820       8651264      0\n",
       "3  17074820       9529345      0\n",
       "4  17074820       9311748      0"
      ]
     },
     "execution_count": 72,
     "metadata": {},
     "output_type": "execute_result"
    }
   ],
   "source": [
    "non_exp_train_info.head()"
   ]
  },
  {
   "cell_type": "code",
   "execution_count": 74,
   "metadata": {},
   "outputs": [
    {
     "data": {
      "text/plain": [
       "((11517, 3), (857252, 3), (868769, 3))"
      ]
     },
     "execution_count": 74,
     "metadata": {},
     "output_type": "execute_result"
    }
   ],
   "source": [
    "final_train = exp_train_info.append(non_exp_train_info)\n",
    "exp_train_info.shape, non_exp_train_info.shape, final_train.shape"
   ]
  },
  {
   "cell_type": "code",
   "execution_count": 77,
   "metadata": {},
   "outputs": [
    {
     "data": {
      "text/html": [
       "<div>\n",
       "<style scoped>\n",
       "    .dataframe tbody tr th:only-of-type {\n",
       "        vertical-align: middle;\n",
       "    }\n",
       "\n",
       "    .dataframe tbody tr th {\n",
       "        vertical-align: top;\n",
       "    }\n",
       "\n",
       "    .dataframe thead th {\n",
       "        text-align: right;\n",
       "    }\n",
       "</style>\n",
       "<table border=\"1\" class=\"dataframe\">\n",
       "  <thead>\n",
       "    <tr style=\"text-align: right;\">\n",
       "      <th></th>\n",
       "      <th>label</th>\n",
       "      <th>pmid_x</th>\n",
       "      <th>ref_list_new</th>\n",
       "      <th>abstract_x</th>\n",
       "      <th>article_title_x</th>\n",
       "      <th>author_str_x</th>\n",
       "      <th>pub_date_x</th>\n",
       "      <th>set_x</th>\n",
       "      <th>full_Text_x</th>\n",
       "      <th>abstract_y</th>\n",
       "      <th>article_title_y</th>\n",
       "      <th>author_str_y</th>\n",
       "      <th>pmid_y</th>\n",
       "      <th>pub_date_y</th>\n",
       "      <th>set_y</th>\n",
       "      <th>full_Text_y</th>\n",
       "    </tr>\n",
       "  </thead>\n",
       "  <tbody>\n",
       "    <tr>\n",
       "      <th>0</th>\n",
       "      <td>1</td>\n",
       "      <td>17074820</td>\n",
       "      <td>15153999</td>\n",
       "      <td>Among bioethicists and members of the public, ...</td>\n",
       "      <td>The routinisation of genomics and genetics: im...</td>\n",
       "      <td>M W Foster, C D M Royal, R R Sharp</td>\n",
       "      <td>2006-11-01</td>\n",
       "      <td>13</td>\n",
       "      <td>NaN</td>\n",
       "      <td>Genomics resources that use samples from ident...</td>\n",
       "      <td>Integrating ethics and science in the Internat...</td>\n",
       "      <td>NaN</td>\n",
       "      <td>15153999</td>\n",
       "      <td>2008-02-25</td>\n",
       "      <td>13</td>\n",
       "      <td>NaN</td>\n",
       "    </tr>\n",
       "    <tr>\n",
       "      <th>1</th>\n",
       "      <td>1</td>\n",
       "      <td>17074820</td>\n",
       "      <td>15213210</td>\n",
       "      <td>Among bioethicists and members of the public, ...</td>\n",
       "      <td>The routinisation of genomics and genetics: im...</td>\n",
       "      <td>M W Foster, C D M Royal, R R Sharp</td>\n",
       "      <td>2006-11-01</td>\n",
       "      <td>13</td>\n",
       "      <td>NaN</td>\n",
       "      <td>Alleviating health disparities in the United S...</td>\n",
       "      <td>Genetic Research and Health Disparities</td>\n",
       "      <td>Pamela Sankar, Mildred K. Cho, Celeste M. Cond...</td>\n",
       "      <td>15213210</td>\n",
       "      <td>2008-02-20</td>\n",
       "      <td>13</td>\n",
       "      <td>NaN</td>\n",
       "    </tr>\n",
       "  </tbody>\n",
       "</table>\n",
       "</div>"
      ],
      "text/plain": [
       "   label    pmid_x  ref_list_new  \\\n",
       "0      1  17074820      15153999   \n",
       "1      1  17074820      15213210   \n",
       "\n",
       "                                          abstract_x  \\\n",
       "0  Among bioethicists and members of the public, ...   \n",
       "1  Among bioethicists and members of the public, ...   \n",
       "\n",
       "                                     article_title_x  \\\n",
       "0  The routinisation of genomics and genetics: im...   \n",
       "1  The routinisation of genomics and genetics: im...   \n",
       "\n",
       "                         author_str_x  pub_date_x  set_x full_Text_x  \\\n",
       "0  M W Foster, C D M Royal, R R Sharp  2006-11-01     13         NaN   \n",
       "1  M W Foster, C D M Royal, R R Sharp  2006-11-01     13         NaN   \n",
       "\n",
       "                                          abstract_y  \\\n",
       "0  Genomics resources that use samples from ident...   \n",
       "1  Alleviating health disparities in the United S...   \n",
       "\n",
       "                                     article_title_y  \\\n",
       "0  Integrating ethics and science in the Internat...   \n",
       "1            Genetic Research and Health Disparities   \n",
       "\n",
       "                                        author_str_y    pmid_y  pub_date_y  \\\n",
       "0                                                NaN  15153999  2008-02-25   \n",
       "1  Pamela Sankar, Mildred K. Cho, Celeste M. Cond...  15213210  2008-02-20   \n",
       "\n",
       "   set_y full_Text_y  \n",
       "0     13         NaN  \n",
       "1     13         NaN  "
      ]
     },
     "execution_count": 77,
     "metadata": {},
     "output_type": "execute_result"
    }
   ],
   "source": [
    "train_full = final_train.merge(information_train, on = 'pmid', how = 'inner').merge(information_train, left_on = 'ref_list_new', right_on = 'pmid', how = 'inner')\n",
    "train_full.head(2)"
   ]
  },
  {
   "cell_type": "code",
   "execution_count": 88,
   "metadata": {},
   "outputs": [],
   "source": [
    "train_full.to_csv('train_full.csv', index = False)"
   ]
  },
  {
   "cell_type": "markdown",
   "metadata": {},
   "source": [
    "# Preparing Test Set"
   ]
  },
  {
   "cell_type": "code",
   "execution_count": 81,
   "metadata": {},
   "outputs": [
    {
     "data": {
      "text/plain": [
       "(2034, 1)"
      ]
     },
     "execution_count": 81,
     "metadata": {},
     "output_type": "execute_result"
    }
   ],
   "source": [
    "test.shape"
   ]
  },
  {
   "cell_type": "code",
   "execution_count": 87,
   "metadata": {},
   "outputs": [
    {
     "name": "stdout",
     "output_type": "stream",
     "text": [
      "(4135122, 2)\n"
     ]
    },
    {
     "data": {
      "text/html": [
       "<div>\n",
       "<style scoped>\n",
       "    .dataframe tbody tr th:only-of-type {\n",
       "        vertical-align: middle;\n",
       "    }\n",
       "\n",
       "    .dataframe tbody tr th {\n",
       "        vertical-align: top;\n",
       "    }\n",
       "\n",
       "    .dataframe thead th {\n",
       "        text-align: right;\n",
       "    }\n",
       "</style>\n",
       "<table border=\"1\" class=\"dataframe\">\n",
       "  <thead>\n",
       "    <tr style=\"text-align: right;\">\n",
       "      <th></th>\n",
       "      <th>pmid</th>\n",
       "      <th>ref_list_new</th>\n",
       "    </tr>\n",
       "  </thead>\n",
       "  <tbody>\n",
       "    <tr>\n",
       "      <th>0</th>\n",
       "      <td>14058267</td>\n",
       "      <td>4550818</td>\n",
       "    </tr>\n",
       "    <tr>\n",
       "      <th>1</th>\n",
       "      <td>14058267</td>\n",
       "      <td>14222809</td>\n",
       "    </tr>\n",
       "    <tr>\n",
       "      <th>2</th>\n",
       "      <td>14058267</td>\n",
       "      <td>4164675</td>\n",
       "    </tr>\n",
       "    <tr>\n",
       "      <th>3</th>\n",
       "      <td>14058267</td>\n",
       "      <td>6211173</td>\n",
       "    </tr>\n",
       "    <tr>\n",
       "      <th>4</th>\n",
       "      <td>14058267</td>\n",
       "      <td>4180008</td>\n",
       "    </tr>\n",
       "  </tbody>\n",
       "</table>\n",
       "</div>"
      ],
      "text/plain": [
       "       pmid  ref_list_new\n",
       "0  14058267       4550818\n",
       "1  14058267      14222809\n",
       "2  14058267       4164675\n",
       "3  14058267       6211173\n",
       "4  14058267       4180008"
      ]
     },
     "execution_count": 87,
     "metadata": {},
     "output_type": "execute_result"
    }
   ],
   "source": [
    "final_test = pd.DataFrame([(int(i), int(j)) for i in test['pmid'] for j in test['pmid'] if i != j])\n",
    "final_test.columns = ['pmid', 'ref_list_new']\n",
    "print(final_test.shape)\n",
    "final_test.head()"
   ]
  },
  {
   "cell_type": "code",
   "execution_count": 89,
   "metadata": {},
   "outputs": [
    {
     "data": {
      "text/html": [
       "<div>\n",
       "<style scoped>\n",
       "    .dataframe tbody tr th:only-of-type {\n",
       "        vertical-align: middle;\n",
       "    }\n",
       "\n",
       "    .dataframe tbody tr th {\n",
       "        vertical-align: top;\n",
       "    }\n",
       "\n",
       "    .dataframe thead th {\n",
       "        text-align: right;\n",
       "    }\n",
       "</style>\n",
       "<table border=\"1\" class=\"dataframe\">\n",
       "  <thead>\n",
       "    <tr style=\"text-align: right;\">\n",
       "      <th></th>\n",
       "      <th>pmid_x</th>\n",
       "      <th>ref_list_new</th>\n",
       "      <th>abstract_x</th>\n",
       "      <th>article_title_x</th>\n",
       "      <th>author_str_x</th>\n",
       "      <th>pub_date_x</th>\n",
       "      <th>set_x</th>\n",
       "      <th>full_Text_x</th>\n",
       "      <th>abstract_y</th>\n",
       "      <th>article_title_y</th>\n",
       "      <th>author_str_y</th>\n",
       "      <th>pmid_y</th>\n",
       "      <th>pub_date_y</th>\n",
       "      <th>set_y</th>\n",
       "      <th>full_Text_y</th>\n",
       "    </tr>\n",
       "  </thead>\n",
       "  <tbody>\n",
       "    <tr>\n",
       "      <th>0</th>\n",
       "      <td>14058267</td>\n",
       "      <td>4550818</td>\n",
       "      <td>A technique is described for collecting thorac...</td>\n",
       "      <td>The absorption of oleic acid in the bile fistu...</td>\n",
       "      <td>D. R. Saunders, A. M. Dawson</td>\n",
       "      <td>1963-09-01</td>\n",
       "      <td>15</td>\n",
       "      <td>NaN</td>\n",
       "      <td>F-merogenotes derived from F14 by transduction...</td>\n",
       "      <td>Ordering of Mutant Sites in the Isoleucine-Val...</td>\n",
       "      <td>Nancy J. Marsh, D. E. Duggan</td>\n",
       "      <td>4550818</td>\n",
       "      <td>1972-02-01</td>\n",
       "      <td>9</td>\n",
       "      <td>NaN</td>\n",
       "    </tr>\n",
       "    <tr>\n",
       "      <th>1</th>\n",
       "      <td>14222809</td>\n",
       "      <td>4550818</td>\n",
       "      <td>Direct electron microscopic evidence is report...</td>\n",
       "      <td>ULTRASTRUCTURE OF ISOLATED KIDNEY MITOCHONDRIA...</td>\n",
       "      <td>Mario H. Burgos, Agustin Aoki, Fabio L. Sacerdote</td>\n",
       "      <td>1964-11-01</td>\n",
       "      <td>19</td>\n",
       "      <td>NaN</td>\n",
       "      <td>F-merogenotes derived from F14 by transduction...</td>\n",
       "      <td>Ordering of Mutant Sites in the Isoleucine-Val...</td>\n",
       "      <td>Nancy J. Marsh, D. E. Duggan</td>\n",
       "      <td>4550818</td>\n",
       "      <td>1972-02-01</td>\n",
       "      <td>9</td>\n",
       "      <td>NaN</td>\n",
       "    </tr>\n",
       "  </tbody>\n",
       "</table>\n",
       "</div>"
      ],
      "text/plain": [
       "     pmid_x  ref_list_new                                         abstract_x  \\\n",
       "0  14058267       4550818  A technique is described for collecting thorac...   \n",
       "1  14222809       4550818  Direct electron microscopic evidence is report...   \n",
       "\n",
       "                                     article_title_x  \\\n",
       "0  The absorption of oleic acid in the bile fistu...   \n",
       "1  ULTRASTRUCTURE OF ISOLATED KIDNEY MITOCHONDRIA...   \n",
       "\n",
       "                                        author_str_x  pub_date_x  set_x  \\\n",
       "0                       D. R. Saunders, A. M. Dawson  1963-09-01     15   \n",
       "1  Mario H. Burgos, Agustin Aoki, Fabio L. Sacerdote  1964-11-01     19   \n",
       "\n",
       "  full_Text_x                                         abstract_y  \\\n",
       "0         NaN  F-merogenotes derived from F14 by transduction...   \n",
       "1         NaN  F-merogenotes derived from F14 by transduction...   \n",
       "\n",
       "                                     article_title_y  \\\n",
       "0  Ordering of Mutant Sites in the Isoleucine-Val...   \n",
       "1  Ordering of Mutant Sites in the Isoleucine-Val...   \n",
       "\n",
       "                   author_str_y   pmid_y  pub_date_y  set_y full_Text_y  \n",
       "0  Nancy J. Marsh, D. E. Duggan  4550818  1972-02-01      9         NaN  \n",
       "1  Nancy J. Marsh, D. E. Duggan  4550818  1972-02-01      9         NaN  "
      ]
     },
     "execution_count": 89,
     "metadata": {},
     "output_type": "execute_result"
    }
   ],
   "source": [
    "test_full = final_test.merge(information_test, on = 'pmid', how = 'inner').merge(information_test, left_on = 'ref_list_new', right_on = 'pmid', how = 'inner')\n",
    "test_full.head(2)"
   ]
  },
  {
   "cell_type": "code",
   "execution_count": 90,
   "metadata": {},
   "outputs": [],
   "source": [
    "test_full.to_csv('test_full.csv', index = False)"
   ]
  },
  {
   "cell_type": "code",
   "execution_count": 95,
   "metadata": {},
   "outputs": [
    {
     "data": {
      "text/plain": [
       "((4135122, 15), (274877, 15))"
      ]
     },
     "execution_count": 95,
     "metadata": {},
     "output_type": "execute_result"
    }
   ],
   "source": [
    "test_full_new = test_full[(test_full['set_x'] == test_full['set_y']) & (test_full['pub_date_x']>test_full['pub_date_y'])]\n",
    "test_full.shape, test_full_new.shape"
   ]
  },
  {
   "cell_type": "code",
   "execution_count": 98,
   "metadata": {},
   "outputs": [],
   "source": [
    "test_full_new.to_csv('test_full_new.csv', index = False)"
   ]
  },
  {
   "cell_type": "code",
   "execution_count": 96,
   "metadata": {},
   "outputs": [],
   "source": [
    "train_test = train_full.append(test_full_new)"
   ]
  },
  {
   "cell_type": "code",
   "execution_count": 97,
   "metadata": {},
   "outputs": [
    {
     "data": {
      "text/plain": [
       "Index(['abstract_x', 'abstract_y', 'article_title_x', 'article_title_y',\n",
       "       'author_str_x', 'author_str_y', 'full_Text_x', 'full_Text_y', 'label',\n",
       "       'pmid_x', 'pmid_y', 'pub_date_x', 'pub_date_y', 'ref_list_new', 'set_x',\n",
       "       'set_y'],\n",
       "      dtype='object')"
      ]
     },
     "execution_count": 97,
     "metadata": {},
     "output_type": "execute_result"
    }
   ],
   "source": [
    "train_test.columns"
   ]
  },
  {
   "cell_type": "markdown",
   "metadata": {},
   "source": [
    "# Similarity Calculation"
   ]
  },
  {
   "cell_type": "code",
   "execution_count": 117,
   "metadata": {},
   "outputs": [],
   "source": [
    "def author_name_match(li_a, li_b):\n",
    "    lia = [re.sub(r'\\W+', ' ', i).lower().strip() for i in li_a.split(',')]\n",
    "    lib = [re.sub(r'\\W+', ' ', i).lower().strip() for i in li_b.split(',')]\n",
    "    print(lia)\n",
    "    print(lib)\n",
    "    return len(set(lia) & set(lib))"
   ]
  },
  {
   "cell_type": "code",
   "execution_count": 124,
   "metadata": {},
   "outputs": [],
   "source": [
    "stop = set(stopwords.words('english'))\n",
    "def similarity_extract(a,b):\n",
    "    a = re.sub(r'\\W+', ' ', a).lower().strip()\n",
    "    b = re.sub(r'\\W+', ' ', b).lower().strip()\n",
    "    a = ' '.join(kk for kk in [stemmer.stem(wd) for wd in a.split(' ') if wd not in stop and wd != ''])\n",
    "    b = ' '.join(vv for vv in [stemmer.stem(wd) for wd in b.split(' ') if wd not in stop and wd != ''])\n",
    "    return [fuzz.ratio(a,b),fuzz.partial_ratio(a,b),fuzz.token_sort_ratio(a,b),fuzz.token_set_ratio(a,b)]"
   ]
  },
  {
   "cell_type": "code",
   "execution_count": 125,
   "metadata": {},
   "outputs": [
    {
     "data": {
      "text/plain": [
       "[29, 35, 13, 13]"
      ]
     },
     "execution_count": 125,
     "metadata": {},
     "output_type": "execute_result"
    }
   ],
   "source": [
    "similarity_extract('A technique is described for collecting thorac', 'F-merogenotes derived from F14 by transduction...')"
   ]
  },
  {
   "cell_type": "code",
   "execution_count": 100,
   "metadata": {},
   "outputs": [
    {
     "data": {
      "text/plain": [
       "[43, 43, 43, 20]"
      ]
     },
     "execution_count": 100,
     "metadata": {},
     "output_type": "execute_result"
    }
   ],
   "source": [
    "abstract_x, article_title_x, full_Text_x"
   ]
  },
  {
   "cell_type": "code",
   "execution_count": null,
   "metadata": {},
   "outputs": [],
   "source": [
    "train_test['abstract_score'] = train_test[['abstract_x', 'abstract_y']].apply(lambda x : similarity_extract(x[0], x[1]), axis = 1)\n",
    "train_test['article_title_score'] = train_test[['article_title_x', 'article_title_y']].apply(lambda x : similarity_extract(x[0], x[1]), axis = 1)\n",
    "train_test['full_text_score'] = train_test[['article_title_x', 'article_title_y']].apply(lambda x : similarity_extract(x[0], x[1]), axis = 1)"
   ]
  },
  {
   "cell_type": "code",
   "execution_count": null,
   "metadata": {},
   "outputs": [],
   "source": [
    "for i in [0,1,2,3]:\n",
    "    train_test['abstract_score' + str(i)] = train_test['abstract_score'].apply(lambda x :  x[i])\n",
    "    train_test['article_title_score' + str(i)] = train_test['article_title_score'].apply(lambda x :  x[i])\n",
    "    train_test['full_text_score' + str(i)] = train_test['full_text_score'].apply(lambda x :  x[i])"
   ]
  },
  {
   "cell_type": "code",
   "execution_count": null,
   "metadata": {},
   "outputs": [],
   "source": [
    "train_test['author_str_similarity'] = train_test[['author_str_x', 'author_str_y']].apply(lambda x : author_name_match(x[0], x[1]), axis = 1)\n",
    "train_test['date_diff'] = train_test['pub_date_x'] - train_test['pub_date_y']"
   ]
  },
  {
   "cell_type": "code",
   "execution_count": null,
   "metadata": {},
   "outputs": [],
   "source": [
    "train_test.head()"
   ]
  },
  {
   "cell_type": "code",
   "execution_count": null,
   "metadata": {},
   "outputs": [],
   "source": [
    "train_test[['pmid_x', 'ref_list_new','abstract_score0', 'abstract_score1', 'abstract_score2', 'abstract_score3', 'article_title_score0', 'article_title_score1', 'article_title_score2', 'article_title_score3', 'full_text_score0', 'full_text_score1', 'full_text_score2', 'full_text_score3', 'author_str_similarity', 'date_diff', 'label']].to_csv('train_test_v1.csv', index = False)"
   ]
  },
  {
   "cell_type": "code",
   "execution_count": null,
   "metadata": {},
   "outputs": [],
   "source": [
    "#Create 'all_x' from these 3 columns : abstract_x, article_title_x, full_Text_x\n",
    "train_test['all_x'] = train_test['abstract_x'] + train_test['article_title_x'] + train_test['full_Text_x']\n",
    "\n",
    "#Create 'all_y' from these 3 columns : abstract_y, article_title_y, full_Text_y\n",
    "train_test['all_y'] = train_test['abstract_y'] + train_test['article_title_y'] + train_test['full_Text_y']\n"
   ]
  },
  {
   "cell_type": "code",
   "execution_count": null,
   "metadata": {},
   "outputs": [],
   "source": []
  },
  {
   "cell_type": "code",
   "execution_count": null,
   "metadata": {},
   "outputs": [],
   "source": [
    "1) tfidf, fasttext, word2vec of 'all' column : finding cosine similarity between 'all_x' & 'all_y' vectors\n",
    "2) using deep lstm siamese network for text similarity between 'all_x' & 'all_y'"
   ]
  },
  {
   "cell_type": "markdown",
   "metadata": {},
   "source": [
    "# Modeling"
   ]
  },
  {
   "cell_type": "code",
   "execution_count": null,
   "metadata": {},
   "outputs": [],
   "source": []
  },
  {
   "cell_type": "markdown",
   "metadata": {},
   "source": [
    "# Function for calculating F1 score"
   ]
  }
 ],
 "metadata": {
  "kernelspec": {
   "display_name": "Python 3",
   "language": "python",
   "name": "python3"
  },
  "language_info": {
   "codemirror_mode": {
    "name": "ipython",
    "version": 3
   },
   "file_extension": ".py",
   "mimetype": "text/x-python",
   "name": "python",
   "nbconvert_exporter": "python",
   "pygments_lexer": "ipython3",
   "version": "3.6.4"
  }
 },
 "nbformat": 4,
 "nbformat_minor": 2
}
