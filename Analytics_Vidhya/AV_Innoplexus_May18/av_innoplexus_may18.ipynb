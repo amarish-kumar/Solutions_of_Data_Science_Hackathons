{
 "cells": [
  {
   "cell_type": "code",
   "execution_count": 1,
   "metadata": {},
   "outputs": [
    {
     "name": "stderr",
     "output_type": "stream",
     "text": [
      "/Users/sohom.ghosh/anaconda3/lib/python3.6/site-packages/fuzzywuzzy/fuzz.py:35: UserWarning: Using slow pure-python SequenceMatcher. Install python-Levenshtein to remove this warning\n",
      "  warnings.warn('Using slow pure-python SequenceMatcher. Install python-Levenshtein to remove this warning')\n"
     ]
    }
   ],
   "source": [
    "import pandas as pd\n",
    "import numpy as np\n",
    "import difflib\n",
    "from fuzzywuzzy import fuzz\n",
    "import warnings\n",
    "warnings.filterwarnings('ignore')\n",
    "import re\n",
    "from collections import Counter"
   ]
  },
  {
   "cell_type": "code",
   "execution_count": 2,
   "metadata": {},
   "outputs": [
    {
     "data": {
      "text/html": [
       "<div>\n",
       "<style scoped>\n",
       "    .dataframe tbody tr th:only-of-type {\n",
       "        vertical-align: middle;\n",
       "    }\n",
       "\n",
       "    .dataframe tbody tr th {\n",
       "        vertical-align: top;\n",
       "    }\n",
       "\n",
       "    .dataframe thead th {\n",
       "        text-align: right;\n",
       "    }\n",
       "</style>\n",
       "<table border=\"1\" class=\"dataframe\">\n",
       "  <thead>\n",
       "    <tr style=\"text-align: right;\">\n",
       "      <th></th>\n",
       "      <th>pmid</th>\n",
       "      <th>ref_list</th>\n",
       "    </tr>\n",
       "  </thead>\n",
       "  <tbody>\n",
       "    <tr>\n",
       "      <th>0</th>\n",
       "      <td>17074820</td>\n",
       "      <td>['15153999', '15213210', '7668302']</td>\n",
       "    </tr>\n",
       "    <tr>\n",
       "      <th>1</th>\n",
       "      <td>15153999</td>\n",
       "      <td>['12721363', '9096352', '10788337', '9114021',...</td>\n",
       "    </tr>\n",
       "    <tr>\n",
       "      <th>2</th>\n",
       "      <td>15213210</td>\n",
       "      <td>['11466240', '12184798']</td>\n",
       "    </tr>\n",
       "    <tr>\n",
       "      <th>3</th>\n",
       "      <td>7668302</td>\n",
       "      <td>['1539589']</td>\n",
       "    </tr>\n",
       "    <tr>\n",
       "      <th>4</th>\n",
       "      <td>12721363</td>\n",
       "      <td>['9465087', '11842208', '11309498', '9465125',...</td>\n",
       "    </tr>\n",
       "  </tbody>\n",
       "</table>\n",
       "</div>"
      ],
      "text/plain": [
       "       pmid                                           ref_list\n",
       "0  17074820                ['15153999', '15213210', '7668302']\n",
       "1  15153999  ['12721363', '9096352', '10788337', '9114021',...\n",
       "2  15213210                           ['11466240', '12184798']\n",
       "3   7668302                                        ['1539589']\n",
       "4  12721363  ['9465087', '11842208', '11309498', '9465125',..."
      ]
     },
     "execution_count": 2,
     "metadata": {},
     "output_type": "execute_result"
    }
   ],
   "source": [
    "train = pd.read_csv('train.csv')\n",
    "train.head()"
   ]
  },
  {
   "cell_type": "code",
   "execution_count": 3,
   "metadata": {},
   "outputs": [
    {
     "data": {
      "text/plain": [
       "(3522, 2)"
      ]
     },
     "execution_count": 3,
     "metadata": {},
     "output_type": "execute_result"
    }
   ],
   "source": [
    "train.shape"
   ]
  },
  {
   "cell_type": "code",
   "execution_count": 4,
   "metadata": {},
   "outputs": [
    {
     "data": {
      "text/html": [
       "<div>\n",
       "<style scoped>\n",
       "    .dataframe tbody tr th:only-of-type {\n",
       "        vertical-align: middle;\n",
       "    }\n",
       "\n",
       "    .dataframe tbody tr th {\n",
       "        vertical-align: top;\n",
       "    }\n",
       "\n",
       "    .dataframe thead th {\n",
       "        text-align: right;\n",
       "    }\n",
       "</style>\n",
       "<table border=\"1\" class=\"dataframe\">\n",
       "  <thead>\n",
       "    <tr style=\"text-align: right;\">\n",
       "      <th></th>\n",
       "      <th>pmid</th>\n",
       "    </tr>\n",
       "  </thead>\n",
       "  <tbody>\n",
       "    <tr>\n",
       "      <th>0</th>\n",
       "      <td>14058267</td>\n",
       "    </tr>\n",
       "    <tr>\n",
       "      <th>1</th>\n",
       "      <td>4550818</td>\n",
       "    </tr>\n",
       "    <tr>\n",
       "      <th>2</th>\n",
       "      <td>14222809</td>\n",
       "    </tr>\n",
       "    <tr>\n",
       "      <th>3</th>\n",
       "      <td>4164675</td>\n",
       "    </tr>\n",
       "    <tr>\n",
       "      <th>4</th>\n",
       "      <td>6211173</td>\n",
       "    </tr>\n",
       "  </tbody>\n",
       "</table>\n",
       "</div>"
      ],
      "text/plain": [
       "       pmid\n",
       "0  14058267\n",
       "1   4550818\n",
       "2  14222809\n",
       "3   4164675\n",
       "4   6211173"
      ]
     },
     "execution_count": 4,
     "metadata": {},
     "output_type": "execute_result"
    }
   ],
   "source": [
    "test = pd.read_csv('test.csv')\n",
    "test.head()"
   ]
  },
  {
   "cell_type": "code",
   "execution_count": 5,
   "metadata": {},
   "outputs": [
    {
     "data": {
      "text/plain": [
       "(2034, 1)"
      ]
     },
     "execution_count": 5,
     "metadata": {},
     "output_type": "execute_result"
    }
   ],
   "source": [
    "test.shape"
   ]
  },
  {
   "cell_type": "code",
   "execution_count": 6,
   "metadata": {},
   "outputs": [
    {
     "data": {
      "text/html": [
       "<div>\n",
       "<style scoped>\n",
       "    .dataframe tbody tr th:only-of-type {\n",
       "        vertical-align: middle;\n",
       "    }\n",
       "\n",
       "    .dataframe tbody tr th {\n",
       "        vertical-align: top;\n",
       "    }\n",
       "\n",
       "    .dataframe thead th {\n",
       "        text-align: right;\n",
       "    }\n",
       "</style>\n",
       "<table border=\"1\" class=\"dataframe\">\n",
       "  <thead>\n",
       "    <tr style=\"text-align: right;\">\n",
       "      <th></th>\n",
       "      <th>abstract</th>\n",
       "      <th>article_title</th>\n",
       "      <th>author_str</th>\n",
       "      <th>pmid</th>\n",
       "      <th>pub_date</th>\n",
       "      <th>set</th>\n",
       "      <th>full_Text</th>\n",
       "    </tr>\n",
       "  </thead>\n",
       "  <tbody>\n",
       "    <tr>\n",
       "      <th>0</th>\n",
       "      <td>Among bioethicists and members of the public, ...</td>\n",
       "      <td>The routinisation of genomics and genetics: im...</td>\n",
       "      <td>M W Foster, C D M Royal, R R Sharp</td>\n",
       "      <td>17074820</td>\n",
       "      <td>2006-11-01</td>\n",
       "      <td>13</td>\n",
       "      <td>NaN</td>\n",
       "    </tr>\n",
       "    <tr>\n",
       "      <th>1</th>\n",
       "      <td>Genomics resources that use samples from ident...</td>\n",
       "      <td>Integrating ethics and science in the Internat...</td>\n",
       "      <td>NaN</td>\n",
       "      <td>15153999</td>\n",
       "      <td>2008-02-25</td>\n",
       "      <td>13</td>\n",
       "      <td>NaN</td>\n",
       "    </tr>\n",
       "    <tr>\n",
       "      <th>2</th>\n",
       "      <td>Alleviating health disparities in the United S...</td>\n",
       "      <td>Genetic Research and Health Disparities</td>\n",
       "      <td>Pamela Sankar, Mildred K. Cho, Celeste M. Cond...</td>\n",
       "      <td>15213210</td>\n",
       "      <td>2008-02-20</td>\n",
       "      <td>13</td>\n",
       "      <td>NaN</td>\n",
       "    </tr>\n",
       "    <tr>\n",
       "      <th>3</th>\n",
       "      <td>Protecting the confidentiality of genetic rese...</td>\n",
       "      <td>Certificates of confidentiality: a valuable to...</td>\n",
       "      <td>C L Earley, L C Strong</td>\n",
       "      <td>7668302</td>\n",
       "      <td>1995-09-01</td>\n",
       "      <td>13</td>\n",
       "      <td>NaN</td>\n",
       "    </tr>\n",
       "    <tr>\n",
       "      <th>4</th>\n",
       "      <td>Whereas the human linkage map appears on limit...</td>\n",
       "      <td>Linkage disequilibrium in human populations</td>\n",
       "      <td>Christine Lonjou, Weihua Zhang, Andrew Collins...</td>\n",
       "      <td>12721363</td>\n",
       "      <td>2003-05-13</td>\n",
       "      <td>13</td>\n",
       "      <td>NaN</td>\n",
       "    </tr>\n",
       "  </tbody>\n",
       "</table>\n",
       "</div>"
      ],
      "text/plain": [
       "                                            abstract  \\\n",
       "0  Among bioethicists and members of the public, ...   \n",
       "1  Genomics resources that use samples from ident...   \n",
       "2  Alleviating health disparities in the United S...   \n",
       "3  Protecting the confidentiality of genetic rese...   \n",
       "4  Whereas the human linkage map appears on limit...   \n",
       "\n",
       "                                       article_title  \\\n",
       "0  The routinisation of genomics and genetics: im...   \n",
       "1  Integrating ethics and science in the Internat...   \n",
       "2            Genetic Research and Health Disparities   \n",
       "3  Certificates of confidentiality: a valuable to...   \n",
       "4        Linkage disequilibrium in human populations   \n",
       "\n",
       "                                          author_str      pmid    pub_date  \\\n",
       "0                 M W Foster, C D M Royal, R R Sharp  17074820  2006-11-01   \n",
       "1                                                NaN  15153999  2008-02-25   \n",
       "2  Pamela Sankar, Mildred K. Cho, Celeste M. Cond...  15213210  2008-02-20   \n",
       "3                             C L Earley, L C Strong   7668302  1995-09-01   \n",
       "4  Christine Lonjou, Weihua Zhang, Andrew Collins...  12721363  2003-05-13   \n",
       "\n",
       "   set full_Text  \n",
       "0   13       NaN  \n",
       "1   13       NaN  \n",
       "2   13       NaN  \n",
       "3   13       NaN  \n",
       "4   13       NaN  "
      ]
     },
     "execution_count": 6,
     "metadata": {},
     "output_type": "execute_result"
    }
   ],
   "source": [
    "information_train = pd.read_csv('information_train.csv', sep = '\\t')\n",
    "information_test = pd.read_csv('information_test.csv', sep = '\\t')\n",
    "information_train.head()"
   ]
  },
  {
   "cell_type": "code",
   "execution_count": 7,
   "metadata": {},
   "outputs": [
    {
     "data": {
      "text/plain": [
       "(3522, 7)"
      ]
     },
     "execution_count": 7,
     "metadata": {},
     "output_type": "execute_result"
    }
   ],
   "source": [
    "information_train.shape"
   ]
  },
  {
   "cell_type": "code",
   "execution_count": 8,
   "metadata": {},
   "outputs": [
    {
     "data": {
      "text/plain": [
       "(3522, 8)"
      ]
     },
     "execution_count": 8,
     "metadata": {},
     "output_type": "execute_result"
    }
   ],
   "source": [
    "train_info = train.merge(information_train, on = 'pmid', how = 'inner')\n",
    "train_info['pub_date'] = pd.to_datetime(train_info['pub_date'])\n",
    "train_info.shape"
   ]
  },
  {
   "cell_type": "code",
   "execution_count": 9,
   "metadata": {},
   "outputs": [
    {
     "data": {
      "text/html": [
       "<div>\n",
       "<style scoped>\n",
       "    .dataframe tbody tr th:only-of-type {\n",
       "        vertical-align: middle;\n",
       "    }\n",
       "\n",
       "    .dataframe tbody tr th {\n",
       "        vertical-align: top;\n",
       "    }\n",
       "\n",
       "    .dataframe thead th {\n",
       "        text-align: right;\n",
       "    }\n",
       "</style>\n",
       "<table border=\"1\" class=\"dataframe\">\n",
       "  <thead>\n",
       "    <tr style=\"text-align: right;\">\n",
       "      <th></th>\n",
       "      <th>pmid</th>\n",
       "      <th>ref_list</th>\n",
       "      <th>abstract</th>\n",
       "      <th>article_title</th>\n",
       "      <th>author_str</th>\n",
       "      <th>pub_date</th>\n",
       "      <th>set</th>\n",
       "      <th>full_Text</th>\n",
       "    </tr>\n",
       "  </thead>\n",
       "  <tbody>\n",
       "    <tr>\n",
       "      <th>0</th>\n",
       "      <td>17074820</td>\n",
       "      <td>['15153999', '15213210', '7668302']</td>\n",
       "      <td>Among bioethicists and members of the public, ...</td>\n",
       "      <td>The routinisation of genomics and genetics: im...</td>\n",
       "      <td>M W Foster, C D M Royal, R R Sharp</td>\n",
       "      <td>2006-11-01</td>\n",
       "      <td>13</td>\n",
       "      <td>NaN</td>\n",
       "    </tr>\n",
       "    <tr>\n",
       "      <th>1</th>\n",
       "      <td>15153999</td>\n",
       "      <td>['12721363', '9096352', '10788337', '9114021',...</td>\n",
       "      <td>Genomics resources that use samples from ident...</td>\n",
       "      <td>Integrating ethics and science in the Internat...</td>\n",
       "      <td>NaN</td>\n",
       "      <td>2008-02-25</td>\n",
       "      <td>13</td>\n",
       "      <td>NaN</td>\n",
       "    </tr>\n",
       "    <tr>\n",
       "      <th>2</th>\n",
       "      <td>15213210</td>\n",
       "      <td>['11466240', '12184798']</td>\n",
       "      <td>Alleviating health disparities in the United S...</td>\n",
       "      <td>Genetic Research and Health Disparities</td>\n",
       "      <td>Pamela Sankar, Mildred K. Cho, Celeste M. Cond...</td>\n",
       "      <td>2008-02-20</td>\n",
       "      <td>13</td>\n",
       "      <td>NaN</td>\n",
       "    </tr>\n",
       "    <tr>\n",
       "      <th>3</th>\n",
       "      <td>7668302</td>\n",
       "      <td>['1539589']</td>\n",
       "      <td>Protecting the confidentiality of genetic rese...</td>\n",
       "      <td>Certificates of confidentiality: a valuable to...</td>\n",
       "      <td>C L Earley, L C Strong</td>\n",
       "      <td>1995-09-01</td>\n",
       "      <td>13</td>\n",
       "      <td>NaN</td>\n",
       "    </tr>\n",
       "    <tr>\n",
       "      <th>4</th>\n",
       "      <td>12721363</td>\n",
       "      <td>['9465087', '11842208', '11309498', '9465125',...</td>\n",
       "      <td>Whereas the human linkage map appears on limit...</td>\n",
       "      <td>Linkage disequilibrium in human populations</td>\n",
       "      <td>Christine Lonjou, Weihua Zhang, Andrew Collins...</td>\n",
       "      <td>2003-05-13</td>\n",
       "      <td>13</td>\n",
       "      <td>NaN</td>\n",
       "    </tr>\n",
       "  </tbody>\n",
       "</table>\n",
       "</div>"
      ],
      "text/plain": [
       "       pmid                                           ref_list  \\\n",
       "0  17074820                ['15153999', '15213210', '7668302']   \n",
       "1  15153999  ['12721363', '9096352', '10788337', '9114021',...   \n",
       "2  15213210                           ['11466240', '12184798']   \n",
       "3   7668302                                        ['1539589']   \n",
       "4  12721363  ['9465087', '11842208', '11309498', '9465125',...   \n",
       "\n",
       "                                            abstract  \\\n",
       "0  Among bioethicists and members of the public, ...   \n",
       "1  Genomics resources that use samples from ident...   \n",
       "2  Alleviating health disparities in the United S...   \n",
       "3  Protecting the confidentiality of genetic rese...   \n",
       "4  Whereas the human linkage map appears on limit...   \n",
       "\n",
       "                                       article_title  \\\n",
       "0  The routinisation of genomics and genetics: im...   \n",
       "1  Integrating ethics and science in the Internat...   \n",
       "2            Genetic Research and Health Disparities   \n",
       "3  Certificates of confidentiality: a valuable to...   \n",
       "4        Linkage disequilibrium in human populations   \n",
       "\n",
       "                                          author_str   pub_date  set full_Text  \n",
       "0                 M W Foster, C D M Royal, R R Sharp 2006-11-01   13       NaN  \n",
       "1                                                NaN 2008-02-25   13       NaN  \n",
       "2  Pamela Sankar, Mildred K. Cho, Celeste M. Cond... 2008-02-20   13       NaN  \n",
       "3                             C L Earley, L C Strong 1995-09-01   13       NaN  \n",
       "4  Christine Lonjou, Weihua Zhang, Andrew Collins... 2003-05-13   13       NaN  "
      ]
     },
     "execution_count": 9,
     "metadata": {},
     "output_type": "execute_result"
    }
   ],
   "source": [
    "train_info.head()"
   ]
  },
  {
   "cell_type": "code",
   "execution_count": 10,
   "metadata": {},
   "outputs": [
    {
     "data": {
      "text/html": [
       "<div>\n",
       "<style scoped>\n",
       "    .dataframe tbody tr th:only-of-type {\n",
       "        vertical-align: middle;\n",
       "    }\n",
       "\n",
       "    .dataframe tbody tr th {\n",
       "        vertical-align: top;\n",
       "    }\n",
       "\n",
       "    .dataframe thead th {\n",
       "        text-align: right;\n",
       "    }\n",
       "</style>\n",
       "<table border=\"1\" class=\"dataframe\">\n",
       "  <thead>\n",
       "    <tr style=\"text-align: right;\">\n",
       "      <th></th>\n",
       "      <th>abstract</th>\n",
       "      <th>article_title</th>\n",
       "      <th>author_str</th>\n",
       "      <th>pmid</th>\n",
       "      <th>pub_date</th>\n",
       "      <th>set</th>\n",
       "      <th>full_Text</th>\n",
       "    </tr>\n",
       "  </thead>\n",
       "  <tbody>\n",
       "    <tr>\n",
       "      <th>0</th>\n",
       "      <td>Cell lines selected in multiple steps for incr...</td>\n",
       "      <td>The gene for a novel protein, a member of the ...</td>\n",
       "      <td>M M Chaudhuri, P N Tonin, W H Lewis, P R Srini...</td>\n",
       "      <td>1311171</td>\n",
       "      <td>1992-02-01</td>\n",
       "      <td>17</td>\n",
       "      <td>NaN</td>\n",
       "    </tr>\n",
       "    <tr>\n",
       "      <th>1</th>\n",
       "      <td>Prolyl 4-hydroxylase (EC 1.14.11.2) is an esse...</td>\n",
       "      <td>Inhibition of prolyl 4-hydroxylase by hydroxya...</td>\n",
       "      <td>C J Cunliffe, T J Franklin</td>\n",
       "      <td>3028370</td>\n",
       "      <td>1986-10-15</td>\n",
       "      <td>17</td>\n",
       "      <td>NaN</td>\n",
       "    </tr>\n",
       "    <tr>\n",
       "      <th>2</th>\n",
       "      <td>From the structure-activity relationships of k...</td>\n",
       "      <td>Time-dependent inactivation of chick-embryo pr...</td>\n",
       "      <td>V Gunzler, H M Hanauske-Abel, R Myllyla, J Moh...</td>\n",
       "      <td>3036081</td>\n",
       "      <td>1987-02-15</td>\n",
       "      <td>17</td>\n",
       "      <td>NaN</td>\n",
       "    </tr>\n",
       "    <tr>\n",
       "      <th>3</th>\n",
       "      <td>The anthracyclines doxorubicin and daunorubici...</td>\n",
       "      <td>Syncatalytic inactivation of prolyl 4-hydroxyl...</td>\n",
       "      <td>V Gunzler, H M Hanauske-Abel, R Myllyla, D D K...</td>\n",
       "      <td>2840891</td>\n",
       "      <td>1988-04-15</td>\n",
       "      <td>17</td>\n",
       "      <td>NaN</td>\n",
       "    </tr>\n",
       "    <tr>\n",
       "      <th>4</th>\n",
       "      <td>The levels of lysine hydroxylase protein and t...</td>\n",
       "      <td>Minoxidil specifically decreases the expressio...</td>\n",
       "      <td>T Hautala, J Heikkinen, K I Kivirikko, R Myllyla</td>\n",
       "      <td>1314568</td>\n",
       "      <td>1992-04-01</td>\n",
       "      <td>17</td>\n",
       "      <td>NaN</td>\n",
       "    </tr>\n",
       "  </tbody>\n",
       "</table>\n",
       "</div>"
      ],
      "text/plain": [
       "                                            abstract  \\\n",
       "0  Cell lines selected in multiple steps for incr...   \n",
       "1  Prolyl 4-hydroxylase (EC 1.14.11.2) is an esse...   \n",
       "2  From the structure-activity relationships of k...   \n",
       "3  The anthracyclines doxorubicin and daunorubici...   \n",
       "4  The levels of lysine hydroxylase protein and t...   \n",
       "\n",
       "                                       article_title  \\\n",
       "0  The gene for a novel protein, a member of the ...   \n",
       "1  Inhibition of prolyl 4-hydroxylase by hydroxya...   \n",
       "2  Time-dependent inactivation of chick-embryo pr...   \n",
       "3  Syncatalytic inactivation of prolyl 4-hydroxyl...   \n",
       "4  Minoxidil specifically decreases the expressio...   \n",
       "\n",
       "                                          author_str     pmid    pub_date  \\\n",
       "0  M M Chaudhuri, P N Tonin, W H Lewis, P R Srini...  1311171  1992-02-01   \n",
       "1                         C J Cunliffe, T J Franklin  3028370  1986-10-15   \n",
       "2  V Gunzler, H M Hanauske-Abel, R Myllyla, J Moh...  3036081  1987-02-15   \n",
       "3  V Gunzler, H M Hanauske-Abel, R Myllyla, D D K...  2840891  1988-04-15   \n",
       "4   T Hautala, J Heikkinen, K I Kivirikko, R Myllyla  1314568  1992-04-01   \n",
       "\n",
       "   set full_Text  \n",
       "0   17       NaN  \n",
       "1   17       NaN  \n",
       "2   17       NaN  \n",
       "3   17       NaN  \n",
       "4   17       NaN  "
      ]
     },
     "execution_count": 10,
     "metadata": {},
     "output_type": "execute_result"
    }
   ],
   "source": [
    "information_test.head()"
   ]
  },
  {
   "cell_type": "code",
   "execution_count": 11,
   "metadata": {},
   "outputs": [
    {
     "data": {
      "text/plain": [
       "(2034, 7)"
      ]
     },
     "execution_count": 11,
     "metadata": {},
     "output_type": "execute_result"
    }
   ],
   "source": [
    "test_info = test.merge(information_test, on = 'pmid', how = 'inner')\n",
    "test_info['pub_date'] = pd.to_datetime(test_info['pub_date'])\n",
    "test_info.shape"
   ]
  },
  {
   "cell_type": "code",
   "execution_count": 12,
   "metadata": {},
   "outputs": [
    {
     "data": {
      "text/html": [
       "<div>\n",
       "<style scoped>\n",
       "    .dataframe tbody tr th:only-of-type {\n",
       "        vertical-align: middle;\n",
       "    }\n",
       "\n",
       "    .dataframe tbody tr th {\n",
       "        vertical-align: top;\n",
       "    }\n",
       "\n",
       "    .dataframe thead th {\n",
       "        text-align: right;\n",
       "    }\n",
       "</style>\n",
       "<table border=\"1\" class=\"dataframe\">\n",
       "  <thead>\n",
       "    <tr style=\"text-align: right;\">\n",
       "      <th></th>\n",
       "      <th>pmid</th>\n",
       "      <th>abstract</th>\n",
       "      <th>article_title</th>\n",
       "      <th>author_str</th>\n",
       "      <th>pub_date</th>\n",
       "      <th>set</th>\n",
       "      <th>full_Text</th>\n",
       "    </tr>\n",
       "  </thead>\n",
       "  <tbody>\n",
       "    <tr>\n",
       "      <th>0</th>\n",
       "      <td>14058267</td>\n",
       "      <td>A technique is described for collecting thorac...</td>\n",
       "      <td>The absorption of oleic acid in the bile fistu...</td>\n",
       "      <td>D. R. Saunders, A. M. Dawson</td>\n",
       "      <td>1963-09-01</td>\n",
       "      <td>15</td>\n",
       "      <td>NaN</td>\n",
       "    </tr>\n",
       "    <tr>\n",
       "      <th>1</th>\n",
       "      <td>4550818</td>\n",
       "      <td>F-merogenotes derived from F14 by transduction...</td>\n",
       "      <td>Ordering of Mutant Sites in the Isoleucine-Val...</td>\n",
       "      <td>Nancy J. Marsh, D. E. Duggan</td>\n",
       "      <td>1972-02-01</td>\n",
       "      <td>9</td>\n",
       "      <td>NaN</td>\n",
       "    </tr>\n",
       "    <tr>\n",
       "      <th>2</th>\n",
       "      <td>14222809</td>\n",
       "      <td>Direct electron microscopic evidence is report...</td>\n",
       "      <td>ULTRASTRUCTURE OF ISOLATED KIDNEY MITOCHONDRIA...</td>\n",
       "      <td>Mario H. Burgos, Agustin Aoki, Fabio L. Sacerdote</td>\n",
       "      <td>1964-11-01</td>\n",
       "      <td>19</td>\n",
       "      <td>NaN</td>\n",
       "    </tr>\n",
       "    <tr>\n",
       "      <th>3</th>\n",
       "      <td>4164675</td>\n",
       "      <td>In vitro synthesis of β1C and immune globulins...</td>\n",
       "      <td>β1C and immune globulin formation in vitro by ...</td>\n",
       "      <td>Vera J. Stecher, G. Jeanette Thorbecke</td>\n",
       "      <td>1967-04-01</td>\n",
       "      <td>15</td>\n",
       "      <td>NaN</td>\n",
       "    </tr>\n",
       "    <tr>\n",
       "      <th>4</th>\n",
       "      <td>6211173</td>\n",
       "      <td>1. A substantial increase of the initial rate ...</td>\n",
       "      <td>Kinetic mechanism of mitochondrial adenosine t...</td>\n",
       "      <td>E A Vasilyeva, I B Minkov, A F Fitin, A D Vino...</td>\n",
       "      <td>1982-01-15</td>\n",
       "      <td>19</td>\n",
       "      <td>NaN</td>\n",
       "    </tr>\n",
       "  </tbody>\n",
       "</table>\n",
       "</div>"
      ],
      "text/plain": [
       "       pmid                                           abstract  \\\n",
       "0  14058267  A technique is described for collecting thorac...   \n",
       "1   4550818  F-merogenotes derived from F14 by transduction...   \n",
       "2  14222809  Direct electron microscopic evidence is report...   \n",
       "3   4164675  In vitro synthesis of β1C and immune globulins...   \n",
       "4   6211173  1. A substantial increase of the initial rate ...   \n",
       "\n",
       "                                       article_title  \\\n",
       "0  The absorption of oleic acid in the bile fistu...   \n",
       "1  Ordering of Mutant Sites in the Isoleucine-Val...   \n",
       "2  ULTRASTRUCTURE OF ISOLATED KIDNEY MITOCHONDRIA...   \n",
       "3  β1C and immune globulin formation in vitro by ...   \n",
       "4  Kinetic mechanism of mitochondrial adenosine t...   \n",
       "\n",
       "                                          author_str   pub_date  set full_Text  \n",
       "0                       D. R. Saunders, A. M. Dawson 1963-09-01   15       NaN  \n",
       "1                       Nancy J. Marsh, D. E. Duggan 1972-02-01    9       NaN  \n",
       "2  Mario H. Burgos, Agustin Aoki, Fabio L. Sacerdote 1964-11-01   19       NaN  \n",
       "3             Vera J. Stecher, G. Jeanette Thorbecke 1967-04-01   15       NaN  \n",
       "4  E A Vasilyeva, I B Minkov, A F Fitin, A D Vino... 1982-01-15   19       NaN  "
      ]
     },
     "execution_count": 12,
     "metadata": {},
     "output_type": "execute_result"
    }
   ],
   "source": [
    "test_info.head()"
   ]
  },
  {
   "cell_type": "markdown",
   "metadata": {},
   "source": [
    "** Check pmid if present in ref_lists **"
   ]
  },
  {
   "cell_type": "code",
   "execution_count": 13,
   "metadata": {},
   "outputs": [
    {
     "data": {
      "text/plain": [
       "[15153999,\n",
       " 15213210,\n",
       " 7668302,\n",
       " 12721363,\n",
       " 9096352,\n",
       " 10788337,\n",
       " 9114021,\n",
       " 10330360,\n",
       " 11466240,\n",
       " 12184798]"
      ]
     },
     "execution_count": 13,
     "metadata": {},
     "output_type": "execute_result"
    }
   ],
   "source": [
    "ref_all = [int(j) for i in train_info['ref_list'].values for j in eval(i)]\n",
    "ref_all[:10]"
   ]
  },
  {
   "cell_type": "code",
   "execution_count": 19,
   "metadata": {},
   "outputs": [
    {
     "data": {
      "text/plain": [
       "set()"
      ]
     },
     "execution_count": 19,
     "metadata": {},
     "output_type": "execute_result"
    }
   ],
   "source": [
    "set(ref_all) - set(train_info['pmid'].values)"
   ]
  },
  {
   "cell_type": "code",
   "execution_count": 20,
   "metadata": {},
   "outputs": [
    {
     "data": {
      "text/plain": [
       "3086"
      ]
     },
     "execution_count": 20,
     "metadata": {},
     "output_type": "execute_result"
    }
   ],
   "source": [
    "len(set(ref_all))"
   ]
  },
  {
   "cell_type": "code",
   "execution_count": 21,
   "metadata": {},
   "outputs": [
    {
     "data": {
      "text/plain": [
       "10868892"
      ]
     },
     "execution_count": 21,
     "metadata": {},
     "output_type": "execute_result"
    }
   ],
   "source": [
    "3086 * 3522"
   ]
  },
  {
   "cell_type": "markdown",
   "metadata": {},
   "source": [
    "** Check if reference list exist from a different set **"
   ]
  },
  {
   "cell_type": "code",
   "execution_count": 14,
   "metadata": {},
   "outputs": [
    {
     "data": {
      "text/plain": [
       "array([13, 18, 16, 14,  3,  2,  6,  8,  5])"
      ]
     },
     "execution_count": 14,
     "metadata": {},
     "output_type": "execute_result"
    }
   ],
   "source": [
    "train_info['set'].unique()"
   ]
  },
  {
   "cell_type": "code",
   "execution_count": 15,
   "metadata": {},
   "outputs": [
    {
     "name": "stdout",
     "output_type": "stream",
     "text": [
      "for set13\n",
      "set()\n",
      "for set18\n",
      "set()\n",
      "for set16\n",
      "set()\n",
      "for set14\n",
      "set()\n",
      "for set3\n",
      "set()\n",
      "for set2\n",
      "set()\n",
      "for set6\n",
      "set()\n",
      "for set8\n",
      "set()\n",
      "for set5\n",
      "set()\n"
     ]
    }
   ],
   "source": [
    "for i in train_info['set'].unique():\n",
    "    ref_list_i = [int(j) for i in train_info[train_info['set'] == i]['ref_list'].values for j in eval(i)]\n",
    "    print(\"for set\" + str(i))\n",
    "    print(set(ref_list_i) - set(train_info[train_info['set'] == i]['pmid'].values))"
   ]
  },
  {
   "cell_type": "markdown",
   "metadata": {},
   "source": [
    "# Remember \n",
    "#1) citation of publications only before the given date\n",
    "#2) citation of publication is from the same set only"
   ]
  },
  {
   "cell_type": "markdown",
   "metadata": {},
   "source": [
    "# Trivial Analysis"
   ]
  },
  {
   "cell_type": "code",
   "execution_count": 25,
   "metadata": {},
   "outputs": [],
   "source": [
    "li = []\n",
    "for i in test_info.index:\n",
    "    rw = test_info.iloc[i,:]\n",
    "    dt = rw['pub_date']\n",
    "    st = rw['set']\n",
    "    #text = str(rw['abstract']) + str(rw['article_title']) + str(rw['author_str']) + str(rw['full_Text'])\n",
    "    reqd_dt = test_info[(test_info['pub_date'] < dt) & (test_info['set'] == st)]\n",
    "    #reqd_dt['all'] = reqd_dt['abstract'] + reqd_dt['article_title'] + reqd_dt['author_str'] + reqd_dt['full_Text']\n",
    "    reqd_dt['score_abstract'] = reqd_dt['abstract'].apply(lambda x: fuzz.ratio(str(x).lower(), str(rw['abstract']).lower()))\n",
    "    reqd_dt['score_title'] = reqd_dt['article_title'].apply(lambda x: fuzz.ratio(str(x).lower(), str(rw['article_title']).lower()))\n",
    "    reqd_dt['score_author'] = reqd_dt['author_str'].apply(lambda x: fuzz.ratio(str(x).lower(), str(rw['author_str']).lower()))\n",
    "    reqd_dt['score_full'] = reqd_dt['full_Text'].apply(lambda x: fuzz.ratio(str(x).lower(), str(rw['full_Text']).lower()))\n",
    "    reqd_dt['score'] = reqd_dt['score_abstract'] + reqd_dt['score_title'] + reqd_dt['score_author'] + reqd_dt['score_full']\n",
    "    #re.sub(r'\\W+', '', your_string)\n",
    "    th = reqd_dt['score'].quantile(.99)\n",
    "    reqd_dt_new = reqd_dt[reqd_dt['score'] > th]\n",
    "    li.append(str([str(kk) for kk in list(reqd_dt_new.sort_values('score')['pmid'])]))\n"
   ]
  },
  {
   "cell_type": "code",
   "execution_count": 17,
   "metadata": {},
   "outputs": [
    {
     "data": {
      "text/plain": [
       "[\"['13398971', '14461382', '13035721']\",\n",
       " \"['4887520', '4945194', '14047236', '4887519', '4935321', '4907879', '5337773', '5327904', '13987374', '4912521', '4907880', '4895215', '4930242']\",\n",
       " \"['14208516', '14898034', '13398436', '14066417', '14381435']\",\n",
       " \"['5844380', '13761024', '13912024', '14461382']\"]"
      ]
     },
     "execution_count": 17,
     "metadata": {},
     "output_type": "execute_result"
    }
   ],
   "source": [
    "li[:3]"
   ]
  },
  {
   "cell_type": "code",
   "execution_count": 19,
   "metadata": {},
   "outputs": [
    {
     "data": {
      "text/plain": [
       "dtype('<M8[ns]')"
      ]
     },
     "execution_count": 19,
     "metadata": {},
     "output_type": "execute_result"
    }
   ],
   "source": [
    "train_info['pub_date'].dtype"
   ]
  },
  {
   "cell_type": "code",
   "execution_count": 26,
   "metadata": {},
   "outputs": [],
   "source": [
    "test_info['ref_list'] = li\n",
    "test_info[['pmid', 'ref_list']].to_csv('sub_4.csv', index = False)"
   ]
  },
  {
   "cell_type": "code",
   "execution_count": 81,
   "metadata": {},
   "outputs": [
    {
     "data": {
      "text/plain": [
       "Counter({1: 1232,\n",
       "         2: 721,\n",
       "         3: 470,\n",
       "         4: 322,\n",
       "         5: 200,\n",
       "         6: 156,\n",
       "         7: 111,\n",
       "         8: 98,\n",
       "         9: 58,\n",
       "         10: 30,\n",
       "         11: 37,\n",
       "         12: 17,\n",
       "         13: 11,\n",
       "         14: 13,\n",
       "         15: 9,\n",
       "         16: 7,\n",
       "         17: 12,\n",
       "         18: 2,\n",
       "         19: 4,\n",
       "         20: 3,\n",
       "         21: 1,\n",
       "         23: 2,\n",
       "         24: 2,\n",
       "         26: 1,\n",
       "         27: 1,\n",
       "         48: 1,\n",
       "         54: 1})"
      ]
     },
     "execution_count": 81,
     "metadata": {},
     "output_type": "execute_result"
    }
   ],
   "source": [
    "Counter([len(eval(i)) for i in train_info['ref_list'].values])"
   ]
  },
  {
   "cell_type": "code",
   "execution_count": 84,
   "metadata": {},
   "outputs": [
    {
     "data": {
      "text/plain": [
       "3.270868824531516"
      ]
     },
     "execution_count": 84,
     "metadata": {},
     "output_type": "execute_result"
    }
   ],
   "source": [
    "np.mean([len(eval(i)) for i in train_info['ref_list'].values])"
   ]
  },
  {
   "cell_type": "code",
   "execution_count": 47,
   "metadata": {},
   "outputs": [
    {
     "data": {
      "text/plain": [
       "(2034, 7)"
      ]
     },
     "execution_count": 47,
     "metadata": {},
     "output_type": "execute_result"
    }
   ],
   "source": [
    "test_info.shape"
   ]
  },
  {
   "cell_type": "code",
   "execution_count": 46,
   "metadata": {},
   "outputs": [
    {
     "data": {
      "text/plain": [
       "(1582, 7)"
      ]
     },
     "execution_count": 46,
     "metadata": {},
     "output_type": "execute_result"
    }
   ],
   "source": [
    "test_info[test_info['pub_date'] < pd.to_datetime('1982-01-15')].shape"
   ]
  },
  {
   "cell_type": "code",
   "execution_count": 23,
   "metadata": {},
   "outputs": [],
   "source": [
    "# Training set preparation : for a given publication all the publications beofore that date are given one if referenced else zero"
   ]
  }
 ],
 "metadata": {
  "kernelspec": {
   "display_name": "Python 3",
   "language": "python",
   "name": "python3"
  },
  "language_info": {
   "codemirror_mode": {
    "name": "ipython",
    "version": 3
   },
   "file_extension": ".py",
   "mimetype": "text/x-python",
   "name": "python",
   "nbconvert_exporter": "python",
   "pygments_lexer": "ipython3",
   "version": "3.6.4"
  }
 },
 "nbformat": 4,
 "nbformat_minor": 2
}
