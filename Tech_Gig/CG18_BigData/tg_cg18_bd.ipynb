{
 "cells": [
  {
   "cell_type": "markdown",
   "metadata": {},
   "source": [
    "# Downloading data of reddit comments"
   ]
  },
  {
   "cell_type": "code",
   "execution_count": null,
   "metadata": {
    "collapsed": true
   },
   "outputs": [],
   "source": [
    "$sudo wget http://files.pushshift.io/reddit/comments/RC_2018-02.xz\n",
    "#Size of RC_2018-02 is 56 GB"
   ]
  },
  {
   "cell_type": "code",
   "execution_count": 1,
   "metadata": {
    "collapsed": true
   },
   "outputs": [],
   "source": [
    "import pandas as pd\n",
    "import json\n",
    "import findspark\n",
    "findspark.init()\n",
    "import pyspark\n",
    "from pyspark import SparkContext\n",
    "from pyspark import SQLContext\n",
    "from pyspark.sql import SparkSession,HiveContext\n",
    "from pyspark.sql.functions import format_number,mean,max,min,sum,explode,split,regexp_replace,countDistinct,first,year,month,date_format,udf,col,to_date\n",
    "from pyspark.conf import SparkConf\n",
    "from pyspark.sql.types import DateType,BooleanType,StringType,FloatType,ArrayType\n",
    "import pyspark.sql.functions as F\n",
    "import pandas as pd\n",
    "import numpy as np\n",
    "import warnings\n",
    "warnings.filterwarnings('ignore')\n",
    "import time\n",
    "import matplotlib.pyplot as plt\n",
    "import seaborn as sns\n",
    "from wordcloud import WordCloud\n",
    "from textblob import TextBlob"
   ]
  },
  {
   "cell_type": "markdown",
   "metadata": {},
   "source": [
    "# JSON Parsing"
   ]
  },
  {
   "cell_type": "code",
   "execution_count": 32,
   "metadata": {
    "collapsed": true
   },
   "outputs": [],
   "source": [
    "i = 0\n",
    "fp = open('/data/tg_cg18_bigdata/rc_2018_02.csv', 'w')\n",
    "fp.write('author,body,created_utc,controversiality,edited,author_flair_css_class,author_flair_text,link_id,parent_id,score\\n')\n",
    "for line in open(\"/data/tg_cg18_bigdata/RC_2018-02\"):\n",
    "    di =json.loads(line)\n",
    "    fp.write(di['author'].replace(',','').replace('\\n','') + \",\" + di['body'].replace(',','').replace('\\n','') + \",\" + str(di['created_utc']) + \",\" + str(di['controversiality']) + \",\" + str(di['edited']) + \",\" + str(di['author_flair_css_class']).replace(',','').replace('\\n','')+ \",\" + str(di['author_flair_text']).replace(',','').replace('\\n','') + \",\" + di['link_id'].replace(',','').replace('\\n','') + \",\" + str(di['parent_id']).replace(',','').replace('\\n','') + \",\" + str(di['score']) + \"\\n\")\n",
    "    i = i + 1\n",
    "    if i > 10:\n",
    "        break\n",
    "fp.close()"
   ]
  },
  {
   "cell_type": "markdown",
   "metadata": {},
   "source": [
    "# Putting data in hadoop cluster"
   ]
  },
  {
   "cell_type": "code",
   "execution_count": null,
   "metadata": {
    "collapsed": true
   },
   "outputs": [],
   "source": [
    "$hadoop fs -put /data/tg_cg18_bigdata/rc_2018_02.csv /user/sohom/\n",
    "#Size of rc_2018_02.csv is 20 GB"
   ]
  },
  {
   "cell_type": "markdown",
   "metadata": {},
   "source": [
    "# Analyzing data using spark"
   ]
  },
  {
   "cell_type": "code",
   "execution_count": 2,
   "metadata": {
    "collapsed": true
   },
   "outputs": [],
   "source": [
    "def create_sc():\n",
    "    sc_conf = SparkConf()\n",
    "    sc_conf.setAppName(\"app1\")\n",
    "    sc_conf.setMaster('spark://groan81104.timesgroup.com:7077')\n",
    "    sc_conf.set('spark.executor.memory', '60g')\n",
    "    sc_conf.set('spark.executor.cores', '8')\n",
    "    sc_conf.set('spark.cores.max', '16')\n",
    "    sc_conf.set('spark.logConf', True)\n",
    "    print (sc_conf.getAll())\n",
    "\n",
    "    sc = None\n",
    "    try:\n",
    "        sc.stop()\n",
    "        sc = SparkContext(conf=sc_conf)\n",
    "    except:\n",
    "        sc = SparkContext(conf=sc_conf)\n",
    "\n",
    "    return sc"
   ]
  },
  {
   "cell_type": "code",
   "execution_count": 3,
   "metadata": {},
   "outputs": [
    {
     "name": "stdout",
     "output_type": "stream",
     "text": [
      "dict_items([('spark.app.name', 'app1'), ('spark.master', 'spark://groan81104.timesgroup.com:7077'), ('spark.executor.memory', '60g'), ('spark.executor.cores', '8'), ('spark.cores.max', '16'), ('spark.logConf', 'True')])\n"
     ]
    }
   ],
   "source": [
    "spark = create_sc()"
   ]
  },
  {
   "cell_type": "code",
   "execution_count": 4,
   "metadata": {
    "collapsed": true
   },
   "outputs": [],
   "source": [
    "##For creating SQL context / Derby\n",
    "#sp = SQLContext(spark)"
   ]
  },
  {
   "cell_type": "code",
   "execution_count": 4,
   "metadata": {
    "collapsed": true
   },
   "outputs": [],
   "source": [
    "spark_hive = HiveContext(spark)"
   ]
  },
  {
   "cell_type": "code",
   "execution_count": 5,
   "metadata": {
    "collapsed": true
   },
   "outputs": [],
   "source": [
    "##For loading data using SQL context / Debry\n",
    "#reddit_comments_data = sp.read.csv('/user/sohom/rc_2018_02.csv', header=True, mode=\"DROPMALFORMED\", inferSchema = True)"
   ]
  },
  {
   "cell_type": "code",
   "execution_count": 5,
   "metadata": {
    "collapsed": true
   },
   "outputs": [],
   "source": [
    "reddit_comments_data = spark_hive.read.csv('/user/sohom/rc_2018_02.csv', header=True, mode=\"DROPMALFORMED\", inferSchema = True)"
   ]
  },
  {
   "cell_type": "code",
   "execution_count": 6,
   "metadata": {},
   "outputs": [
    {
     "name": "stdout",
     "output_type": "stream",
     "text": [
      "+--------------------+--------------------+-----------+----------------+------+----------------------+-----------------+---------+----------+-----+\n",
      "|              author|                body|created_utc|controversiality|edited|author_flair_css_class|author_flair_text|  link_id| parent_id|score|\n",
      "+--------------------+--------------------+-----------+----------------+------+----------------------+-----------------+---------+----------+-----+\n",
      "|YouthfulPhotographer|Welcome to genera...| 1517443200|               0| False|                  None|             None|t3_7uaobc|t1_dtj8323|    7|\n",
      "|        jasonklacour|             Welcome| 1517443200|               0| False|                  None|             None|t3_7ude45| t3_7ude45|    1|\n",
      "|        Assassin2000|I'm 16 and the fr...| 1517443200|               0| False|                  None|             None|t3_7uegdc|t1_dtjo9qq|    1|\n",
      "|         kawaiicicle|What? It’s a nich...| 1517443200|               0| False|              Employee|Assistant Manager|t3_7u7mps|t1_dtin0yf|    0|\n",
      "| recklessmaterialism|              solid!| 1517443200|               0| False|                  None|             None|t3_7udrqf| t3_7udrqf|   -1|\n",
      "|          mihirawati|            I agree | 1517443200|               0| False|                Bulls1|            Bulls|t3_7uefob|t1_dtjoe6h|    0|\n",
      "|     TheHitchcock123|Dude its done the...| 1517443200|               0| False|                  None|             None|t3_7ub10c| t3_7ub10c|    1|\n",
      "|    thrownaway1p270j|That's what you c...| 1517443200|               0| False|                  None|             None|t3_7udmar|t1_dtjj0ze|   11|\n",
      "|           [deleted]|           [deleted]| 1517443200|               0| False|                  None|             None|t3_7udo6j|t1_dtjo85h|    1|\n",
      "|          fiorescuro|I'm sorry that ha...| 1517443200|               0| False|                  None|             None|t3_7ubw4j| t3_7ubw4j|    2|\n",
      "+--------------------+--------------------+-----------+----------------+------+----------------------+-----------------+---------+----------+-----+\n",
      "only showing top 10 rows\n",
      "\n"
     ]
    }
   ],
   "source": [
    "reddit_comments_data.show(10)"
   ]
  },
  {
   "cell_type": "markdown",
   "metadata": {},
   "source": [
    "## Finding total number of entries / rows"
   ]
  },
  {
   "cell_type": "code",
   "execution_count": 58,
   "metadata": {},
   "outputs": [
    {
     "data": {
      "text/plain": [
       "86406074"
      ]
     },
     "execution_count": 58,
     "metadata": {},
     "output_type": "execute_result"
    }
   ],
   "source": [
    "reddit_comments_data.count()"
   ]
  },
  {
   "cell_type": "markdown",
   "metadata": {},
   "source": [
    "## Finding unique number of authors"
   ]
  },
  {
   "cell_type": "code",
   "execution_count": 49,
   "metadata": {},
   "outputs": [
    {
     "data": {
      "text/plain": [
       "4282253"
      ]
     },
     "execution_count": 49,
     "metadata": {},
     "output_type": "execute_result"
    }
   ],
   "source": [
    "reddit_comments_data.select('author').distinct().count()"
   ]
  },
  {
   "cell_type": "markdown",
   "metadata": {},
   "source": [
    "## Finding types of controversiality"
   ]
  },
  {
   "cell_type": "code",
   "execution_count": 51,
   "metadata": {},
   "outputs": [
    {
     "name": "stdout",
     "output_type": "stream",
     "text": [
      "+----------------+--------+\n",
      "|controversiality|count   |\n",
      "+----------------+--------+\n",
      "|0               |84488433|\n",
      "|1               |1917641 |\n",
      "+----------------+--------+\n",
      "\n"
     ]
    }
   ],
   "source": [
    "reddit_comments_data.groupby('controversiality').count().orderBy('count', ascending = False).show(100, truncate = False)"
   ]
  },
  {
   "cell_type": "markdown",
   "metadata": {},
   "source": [
    "## Finding time distribution of edited articles"
   ]
  },
  {
   "cell_type": "code",
   "execution_count": 52,
   "metadata": {},
   "outputs": [
    {
     "name": "stdout",
     "output_type": "stream",
     "text": [
      "+----------+--------+\n",
      "|edited    |count   |\n",
      "+----------+--------+\n",
      "|False     |83868809|\n",
      "|1518141178|25      |\n",
      "|1518410104|25      |\n",
      "|1519055294|23      |\n",
      "|1518708044|22      |\n",
      "|1518466892|12      |\n",
      "|1519055593|12      |\n",
      "|1518708139|12      |\n",
      "|1520260157|11      |\n",
      "|1519765317|11      |\n",
      "|1518618709|11      |\n",
      "|1519504861|10      |\n",
      "|1518030138|9       |\n",
      "|1518728128|9       |\n",
      "|1518724361|9       |\n",
      "|1518646929|9       |\n",
      "|1518113565|9       |\n",
      "|1519253253|9       |\n",
      "|1519767977|9       |\n",
      "|1519839080|9       |\n",
      "|1519535942|9       |\n",
      "|1518469503|9       |\n",
      "|1518469502|9       |\n",
      "|1519151128|9       |\n",
      "|1518726510|9       |\n",
      "|1518819809|8       |\n",
      "|1519832658|8       |\n",
      "|1517863244|8       |\n",
      "|1519141037|8       |\n",
      "|1518708123|8       |\n",
      "|1518116419|8       |\n",
      "|1518212814|8       |\n",
      "|1519158604|8       |\n",
      "|1519676447|8       |\n",
      "|1517938094|8       |\n",
      "|1518554124|8       |\n",
      "|1519180741|8       |\n",
      "|1519062093|8       |\n",
      "|1519842684|8       |\n",
      "|1518566145|8       |\n",
      "|1519846901|8       |\n",
      "|1519311737|8       |\n",
      "|1519759116|8       |\n",
      "|1518810207|8       |\n",
      "|1518015721|8       |\n",
      "|1519072855|8       |\n",
      "|1519780140|8       |\n",
      "|1519005279|8       |\n",
      "|1518725829|8       |\n",
      "|1519599464|8       |\n",
      "|1519074085|8       |\n",
      "|1517521574|8       |\n",
      "|1519318313|8       |\n",
      "|1517930319|8       |\n",
      "|1518725157|8       |\n",
      "|1519395389|8       |\n",
      "|1517590285|8       |\n",
      "|1517878343|8       |\n",
      "|1519010770|8       |\n",
      "|1519232237|8       |\n",
      "|1518703618|8       |\n",
      "|1519399242|8       |\n",
      "|1519779339|8       |\n",
      "|1517975661|8       |\n",
      "|1519055401|8       |\n",
      "|1517874866|8       |\n",
      "|1517861514|8       |\n",
      "|1517937550|8       |\n",
      "|1519234994|8       |\n",
      "|1518714426|8       |\n",
      "|1519062511|8       |\n",
      "|1518200905|8       |\n",
      "|1519791182|8       |\n",
      "|1518016716|8       |\n",
      "|1519068743|8       |\n",
      "|1517515278|8       |\n",
      "|1517867111|8       |\n",
      "|1519313496|8       |\n",
      "|1517775427|8       |\n",
      "|1519404327|8       |\n",
      "|1518730287|8       |\n",
      "|1518204257|8       |\n",
      "|1518536418|8       |\n",
      "|1519758617|8       |\n",
      "|1519062481|8       |\n",
      "|1518739843|8       |\n",
      "|1518122518|8       |\n",
      "|1518306383|8       |\n",
      "|1518193849|8       |\n",
      "|1518129650|8       |\n",
      "|1519252970|8       |\n",
      "|1518461617|8       |\n",
      "|1518635792|8       |\n",
      "|1518892622|8       |\n",
      "|1518461922|8       |\n",
      "|1519664784|8       |\n",
      "|1518631775|8       |\n",
      "|1519493519|8       |\n",
      "|1518536806|8       |\n",
      "|1518551005|8       |\n",
      "+----------+--------+\n",
      "only showing top 100 rows\n",
      "\n"
     ]
    }
   ],
   "source": [
    "reddit_comments_data.groupby('edited').count().orderBy('count', ascending = False).show(100, truncate = False)"
   ]
  },
  {
   "cell_type": "markdown",
   "metadata": {},
   "source": [
    "## Exploring distribution of author_flair_css_class"
   ]
  },
  {
   "cell_type": "code",
   "execution_count": 53,
   "metadata": {},
   "outputs": [
    {
     "name": "stdout",
     "output_type": "stream",
     "text": [
      "+-------------------------------+--------+\n",
      "|author_flair_css_class         |count   |\n",
      "+-------------------------------+--------+\n",
      "|None                           |62588801|\n",
      "|null                           |2990260 |\n",
      "|default                        |436244  |\n",
      "|noflair                        |209008  |\n",
      "|Training                       |145900  |\n",
      "|MAL                            |132827  |\n",
      "|flair-default                  |114083  |\n",
      "|MURICA                         |113267  |\n",
      "|us                             |87667   |\n",
      "|blue                           |81823   |\n",
      "|xbox                           |78766   |\n",
      "|patriots                       |70442   |\n",
      "|eagles                         |67765   |\n",
      "|green                          |67216   |\n",
      "|treadonme                      |63018   |\n",
      "|male                           |62953   |\n",
      "|female                         |60880   |\n",
      "|new                            |56818   |\n",
      "|purple                         |55029   |\n",
      "|red                            |54224   |\n",
      "|psn                            |52372   |\n",
      "|bot                            |49307   |\n",
      "|black                          |49127   |\n",
      "|ca                             |46714   |\n",
      "|s1 3 team-3 country-eng        |46418   |\n",
      "|Lakers1                        |44476   |\n",
      "|s1 2 team-2 country-eng        |44124   |\n",
      "|mod                            |43496   |\n",
      "|trixie                         |40514   |\n",
      "|hotpink                        |40269   |\n",
      "|noob                           |39658   |\n",
      "|california-flag                |36990   |\n",
      "|Training-2                     |36890   |\n",
      "|text-pcmr color-pcmr icon-steam|36387   |\n",
      "|kekistan                       |35880   |\n",
      "|text-pcmr color-pcmr           |33502   |\n",
      "|Celtics1                       |31748   |\n",
      "|seagreen                       |30688   |\n",
      "|s1 1 team-1 country-eng        |30598   |\n",
      "|Lakers2                        |30492   |\n",
      "|yellow                         |30480   |\n",
      "|bronze                         |30466   |\n",
      "|s1 6 team-6 country-esp        |30404   |\n",
      "|shangela                       |28909   |\n",
      "|hi                             |27839   |\n",
      "|packers                        |26897   |\n",
      "|fan                            |26725   |\n",
      "|vikings                        |26543   |\n",
      "|Cavaliers1                     |26134   |\n",
      "|india                          |25710   |\n",
      "|NBA                            |25674   |\n",
      "|dm                             |25327   |\n",
      "|11                             |25308   |\n",
      "|blank                          |24804   |\n",
      "|s1 5 team-5 country-eng        |24679   |\n",
      "|month1                         |24588   |\n",
      "|Raptors1                       |24098   |\n",
      "|ps4                            |24071   |\n",
      "|fortyniners                    |23832   |\n",
      "|s1 4 team-4 country-eng        |23501   |\n",
      "|under1                         |22777   |\n",
      "|fan cloud9                     |22526   |\n",
      "|trans                          |22465   |\n",
      "|Celtics2                       |22322   |\n",
      "|Warriors1                      |22262   |\n",
      "|texas                          |21943   |\n",
      "|us-flag                        |21910   |\n",
      "|points                         |21855   |\n",
      "|userGray                       |21852   |\n",
      "|seahawks                       |21758   |\n",
      "|participant                    |21454   |\n",
      "|Cavaliers2                     |20989   |\n",
      "|modmsg                         |20891   |\n",
      "|na c9                          |20798   |\n",
      "|Prestige6                      |20764   |\n",
      "|orange                         |20602   |\n",
      "|plain                          |20513   |\n",
      "|NHL-TOR8-sheet3-col13-row10    |20506   |\n",
      "|virginia                       |20315   |\n",
      "|pink                           |20023   |\n",
      "|notag                          |19938   |\n",
      "|Thunder1                       |19929   |\n",
      "|steelers                       |19820   |\n",
      "|text                           |19779   |\n",
      "|New                            |19622   |\n",
      "|no-knight                      |19622   |\n",
      "|llama                          |19410   |\n",
      "|cowboys                        |19403   |\n",
      "|EURO                           |19394   |\n",
      "|texas-flag                     |19224   |\n",
      "|rainbow                        |19215   |\n",
      "|Glenn                          |19199   |\n",
      "|Warriors3                      |19037   |\n",
      "|NHL-TBL1-sheet1-col03-row20    |19022   |\n",
      "|Bulls1                         |18801   |\n",
      "|nimble                         |18784   |\n",
      "|week1                          |18549   |\n",
      "|un-flag                        |18277   |\n",
      "|F004                           |17849   |\n",
      "|uzumakiclan                    |17845   |\n",
      "+-------------------------------+--------+\n",
      "only showing top 100 rows\n",
      "\n"
     ]
    }
   ],
   "source": [
    "reddit_comments_data.groupby('author_flair_css_class').count().orderBy('count', ascending = False).show(100, truncate = False)"
   ]
  },
  {
   "cell_type": "markdown",
   "metadata": {},
   "source": [
    "## Exploring distribution of author_flair_text"
   ]
  },
  {
   "cell_type": "code",
   "execution_count": 55,
   "metadata": {},
   "outputs": [
    {
     "name": "stdout",
     "output_type": "stream",
     "text": [
      "+--------------------------------------------------+--------+\n",
      "|author_flair_text                                 |count   |\n",
      "+--------------------------------------------------+--------+\n",
      "|None                                              |62348037|\n",
      "|null                                              |4964536 |\n",
      "|Text                                              |101912  |\n",
      "|Patriots                                          |70850   |\n",
      "|16                                                |70494   |\n",
      "|Eagles                                            |67988   |\n",
      "|United States                                     |63204   |\n",
      "|New User                                          |60957   |\n",
      "|Lakers                                            |57486   |\n",
      "|Raptors                                           |52634   |\n",
      "|TOR - NHL                                         |50746   |\n",
      "|Cavaliers                                         |50722   |\n",
      "|Canada                                            |49045   |\n",
      "|Liverpool                                         |46969   |\n",
      "|Celtics                                           |46106   |\n",
      "|Manchester United                                 |44349   |\n",
      "|15                                                |43721   |\n",
      "|USA                                               |40287   |\n",
      "|California                                        |39427   |\n",
      "|14                                                |38326   |\n",
      "|17                                                |37633   |\n",
      "|Redditor for 2 months.                            |36813   |\n",
      "|♀                                                 |35704   |\n",
      "|MAGA                                              |35617   |\n",
      "|Warriors                                          |35540   |\n",
      "|                                                  |34175   |\n",
      "|KEK                                               |34005   |\n",
      "|Rockets                                           |32314   |\n",
      "|Redditor for 3 months.                            |31957   |\n",
      "|DM                                                |31223   |\n",
      "|1776                                              |31199   |\n",
      "|Arsenal                                           |30893   |\n",
      "|TBL - NHL                                         |30499   |\n",
      "|300K Attendee                                     |30436   |\n",
      "|Barcelona                                         |30412   |\n",
      "|76ers                                             |29542   |\n",
      "|PIT - NHL                                         |28164   |\n",
      "|18                                                |27103   |\n",
      "|Packers                                           |25510   |\n",
      "|America                                           |25195   |\n",
      "|Tottenham Hotspur                                 |24707   |\n",
      "|Bulls                                             |24690   |\n",
      "|Spurs                                             |24652   |\n",
      "|Vikings                                           |24647   |\n",
      "|India                                             |24584   |\n",
      "|Knicks                                            |24504   |\n",
      "|Bot                                               |24410   |\n",
      "|Chelsea                                           |24084   |\n",
      "|49ers                                             |24049   |\n",
      "|EDM - NHL                                         |23832   |\n",
      "|Thunder                                           |23782   |\n",
      "|NBA                                               |22587   |\n",
      "|Cloud9 Fan                                        |22526   |\n",
      "|Cowboys                                           |22413   |\n",
      "|Seahawks                                          |21803   |\n",
      "|NSH - NHL                                         |21341   |\n",
      "|DTOM                                              |21321   |\n",
      "|Wizards                                           |21321   |\n",
      "|No Steppy                                         |21121   |\n",
      "|WPG - NHL                                         |21113   |\n",
      "|Texas                                             |20714   |\n",
      "|America First                                     |20531   |\n",
      "|Moderator                                         |20358   |\n",
      "|1 - 2 years account age. 200 - 1000 comment karma.|20234   |\n",
      "|Germany                                           |20043   |\n",
      "|Steelers                                          |20014   |\n",
      "|1                                                 |19643   |\n",
      "|Bot Transcriber in Training                       |19380   |\n",
      "|Trail Blazers                                     |19365   |\n",
      "|Redditor for 4 months.                            |19159   |\n",
      "|Broncos                                           |18752   |\n",
      "|Australia                                         |18659   |\n",
      "|Foreign                                           |18292   |\n",
      "|New York                                          |18251   |\n",
      "|BOS - NHL                                         |18175   |\n",
      "|Bears                                             |18044   |\n",
      "|WSH - NHL                                         |17719   |\n",
      "|TX                                                |17583   |\n",
      "|Jazz                                              |17483   |\n",
      "|Real Madrid                                       |17480   |\n",
      "|England                                           |17475   |\n",
      "|Male                                              |17331   |\n",
      "|Manchester City                                   |16991   |\n",
      "|verified                                          |16915   |\n",
      "|CHI - NHL                                         |16791   |\n",
      "|redditor for 3 months                             |16762   |\n",
      "|Michigan State Spartans                           |16628   |\n",
      "|Lions                                             |16614   |\n",
      "|Kansas Jayhawks                                   |16584   |\n",
      "|Giants                                            |16559   |\n",
      "|Timberwolves                                      |16354   |\n",
      "|Trader                                            |15965   |\n",
      "|LAK - NHL                                         |15948   |\n",
      "|OTT - NHL                                         |15813   |\n",
      "|Colts                                             |15588   |\n",
      "|New York Yankees                                  |15540   |\n",
      "|MTL - NHL                                         |15365   |\n",
      "|CA                                                |15174   |\n",
      "|13                                                |15041   |\n",
      "|Heat                                              |14900   |\n",
      "+--------------------------------------------------+--------+\n",
      "only showing top 100 rows\n",
      "\n"
     ]
    }
   ],
   "source": [
    "reddit_comments_data.groupby('author_flair_text').count().orderBy('count', ascending = False).show(100, truncate = False)"
   ]
  },
  {
   "cell_type": "markdown",
   "metadata": {},
   "source": [
    "## Finding unique numebr of link_id s"
   ]
  },
  {
   "cell_type": "code",
   "execution_count": 57,
   "metadata": {},
   "outputs": [
    {
     "data": {
      "text/plain": [
       "6438717"
      ]
     },
     "execution_count": 57,
     "metadata": {},
     "output_type": "execute_result"
    }
   ],
   "source": [
    "reddit_comments_data.select('link_id').distinct().count()"
   ]
  },
  {
   "cell_type": "markdown",
   "metadata": {},
   "source": [
    "## Finding distribution of link_id s"
   ]
  },
  {
   "cell_type": "code",
   "execution_count": 56,
   "metadata": {},
   "outputs": [
    {
     "name": "stdout",
     "output_type": "stream",
     "text": [
      "+---------+------+\n",
      "|link_id  |count |\n",
      "+---------+------+\n",
      "|t3_7yd4sz|517035|\n",
      "|t3_7y3j4v|108136|\n",
      "|t3_7vb5tk|55926 |\n",
      "|t3_7ui180|50222 |\n",
      "|t3_7xkstl|47542 |\n",
      "|t3_7vad8n|46261 |\n",
      "|t3_7x8us7|40492 |\n",
      "|t3_7zepcu|35548 |\n",
      "|t3_7vf2ng|34385 |\n",
      "|t3_7xhsal|30117 |\n",
      "|t3_7vu5pj|27557 |\n",
      "|t3_7yir80|27173 |\n",
      "|t3_808vmz|26966 |\n",
      "|t3_7wcnvi|26698 |\n",
      "|t3_7ux0w7|26304 |\n",
      "|t3_7xqg0q|24358 |\n",
      "|t3_7vg63x|24162 |\n",
      "|t3_7x639l|24099 |\n",
      "|t3_7ubs3f|23994 |\n",
      "|t3_8042i7|23253 |\n",
      "|t3_80phz7|22465 |\n",
      "|t3_7wxdm8|22067 |\n",
      "|t3_7wl7m0|22002 |\n",
      "|t3_7yv9cz|21977 |\n",
      "|t3_7y0ldo|21835 |\n",
      "|t3_7flk39|21821 |\n",
      "|t3_80ow6w|21652 |\n",
      "|t3_7xae0a|21311 |\n",
      "|t3_7w43k9|20854 |\n",
      "|t3_7usv0k|20511 |\n",
      "|t3_7vahxf|20500 |\n",
      "|t3_7zbgq9|20257 |\n",
      "|t3_7vwkqg|19761 |\n",
      "|t3_7yj8zx|19659 |\n",
      "|t3_7w6ic2|19409 |\n",
      "|t3_7yaiw6|19307 |\n",
      "|t3_7xvumf|19293 |\n",
      "|t3_7vbv3l|18626 |\n",
      "|t3_7zkpxv|17465 |\n",
      "|t3_7xsuvk|17015 |\n",
      "|t3_7xfn4g|16748 |\n",
      "|t3_7v9yqa|16708 |\n",
      "|t3_7wi1g8|16648 |\n",
      "|t3_7ydlf8|15756 |\n",
      "|t3_7xmtjj|15712 |\n",
      "|t3_7weo8t|15215 |\n",
      "|t3_7zomgr|15181 |\n",
      "|t3_7w392v|15099 |\n",
      "|t3_7zafwi|15077 |\n",
      "|t3_7ygb2e|14937 |\n",
      "|t3_7ulalq|14761 |\n",
      "|t3_7yvhmi|14726 |\n",
      "|t3_7xusr0|14658 |\n",
      "|t3_7y0phb|14591 |\n",
      "|t3_80c1b2|14346 |\n",
      "|t3_7xztxf|14277 |\n",
      "|t3_7wn71y|14179 |\n",
      "|t3_7w9f1j|13958 |\n",
      "|t3_7woy83|13842 |\n",
      "|t3_7unamf|13618 |\n",
      "|t3_7x0nk4|13402 |\n",
      "|t3_80voxz|13351 |\n",
      "|t3_7z7u1u|13269 |\n",
      "|t3_7vxzrb|13263 |\n",
      "|t3_7yxgfz|13139 |\n",
      "|t3_7wdrmr|13126 |\n",
      "|t3_7yay78|13054 |\n",
      "|t3_80ixyy|13029 |\n",
      "|t3_7xlzjp|12556 |\n",
      "|t3_7xx94q|12545 |\n",
      "|t3_7uhp8j|12404 |\n",
      "|t3_7z96md|12187 |\n",
      "|t3_7vg8eh|12131 |\n",
      "|t3_7wngyd|12085 |\n",
      "|t3_7zhecd|12076 |\n",
      "|t3_7wohjx|12036 |\n",
      "|t3_7vft5j|11973 |\n",
      "|t3_7yecuk|11894 |\n",
      "|t3_7zqhlg|11820 |\n",
      "|t3_7ztkai|11731 |\n",
      "|t3_8029mk|11681 |\n",
      "|t3_7znmkx|11393 |\n",
      "|t3_7vks1g|11201 |\n",
      "|t3_80i3mq|11052 |\n",
      "|t3_7yi156|10995 |\n",
      "|t3_7vcelr|10961 |\n",
      "|t3_7zjp58|10925 |\n",
      "|t3_7wrbns|10781 |\n",
      "|t3_7ulelr|10752 |\n",
      "|t3_7y979i|10669 |\n",
      "|t3_7z1bqb|10600 |\n",
      "|t3_805xsi|10571 |\n",
      "|t3_7zzdvu|10530 |\n",
      "|t3_7vqoy9|10496 |\n",
      "|t3_802kxd|10494 |\n",
      "|t3_7vcvi0|10489 |\n",
      "|t3_7xymhi|10485 |\n",
      "|t3_7v9jy0|10236 |\n",
      "|t3_7zeezr|10224 |\n",
      "|t3_7vbnzw|10216 |\n",
      "+---------+------+\n",
      "only showing top 100 rows\n",
      "\n"
     ]
    }
   ],
   "source": [
    "reddit_comments_data.groupby('link_id').count().orderBy('count', ascending = False).show(100, truncate = False)"
   ]
  },
  {
   "cell_type": "markdown",
   "metadata": {},
   "source": [
    "## Finding unique number of parent_id s"
   ]
  },
  {
   "cell_type": "code",
   "execution_count": 60,
   "metadata": {},
   "outputs": [
    {
     "data": {
      "text/plain": [
       "42619735"
      ]
     },
     "execution_count": 60,
     "metadata": {},
     "output_type": "execute_result"
    }
   ],
   "source": [
    "reddit_comments_data.select('parent_id').distinct().count()"
   ]
  },
  {
   "cell_type": "markdown",
   "metadata": {},
   "source": [
    "## Finding distribution of parent_id s"
   ]
  },
  {
   "cell_type": "code",
   "execution_count": 59,
   "metadata": {},
   "outputs": [
    {
     "name": "stdout",
     "output_type": "stream",
     "text": [
      "+---------+-----+\n",
      "|parent_id|count|\n",
      "+---------+-----+\n",
      "|t3_7vb5tk|39842|\n",
      "|t3_7vad8n|34131|\n",
      "|t3_7yir80|20069|\n",
      "|t3_808vmz|19510|\n",
      "|t3_7vahxf|15511|\n",
      "|t3_7vf2ng|15436|\n",
      "|t3_7w43k9|13360|\n",
      "|t3_7zqhlg|11761|\n",
      "|t3_80ow6w|11625|\n",
      "|t3_7zbgq9|11074|\n",
      "|t3_7x8us7|10256|\n",
      "|t3_7yay78|10028|\n",
      "|t3_7v9yqa|9668 |\n",
      "|t3_7vg8eh|9172 |\n",
      "|t3_7zepcu|8881 |\n",
      "|t3_7ygb2e|8829 |\n",
      "|t3_80phz7|8734 |\n",
      "|t3_7flk39|8549 |\n",
      "|t3_7w392v|8492 |\n",
      "|t3_7woy83|8471 |\n",
      "|t3_7wsmg6|8455 |\n",
      "|t3_80c1b2|8025 |\n",
      "|t3_7xsuvk|7914 |\n",
      "|t3_7wn71y|7523 |\n",
      "|t3_80i3mq|7455 |\n",
      "|t3_7xqg0q|7247 |\n",
      "|t3_7vvp34|7029 |\n",
      "|t3_7vg63x|6889 |\n",
      "|t3_7yvhmi|6740 |\n",
      "|t3_7vbv3l|6634 |\n",
      "|t3_7yi156|6619 |\n",
      "|t3_7yro04|6619 |\n",
      "|t3_7vmv0p|6577 |\n",
      "|t3_7yxgfz|6524 |\n",
      "|t3_7z96md|6519 |\n",
      "|t3_7zzdvu|6357 |\n",
      "|t3_7wcnvi|6304 |\n",
      "|t3_7yaiw6|6233 |\n",
      "|t3_7x5jw2|6179 |\n",
      "|t3_7v2yrz|6080 |\n",
      "|t3_7wuxco|6071 |\n",
      "|t3_7x639l|5980 |\n",
      "|t3_7ui180|5922 |\n",
      "|t3_7v6qtc|5908 |\n",
      "|t3_7wdyi4|5821 |\n",
      "|t3_7xkcfc|5776 |\n",
      "|t3_7wivf3|5520 |\n",
      "|t3_7vji65|5514 |\n",
      "|t3_7vbb0g|5483 |\n",
      "|t3_7w6ic2|5455 |\n",
      "|t3_7wl7m0|5375 |\n",
      "|t3_7vsuyj|5146 |\n",
      "|t3_7wvkwb|4901 |\n",
      "|t3_7vagw7|4864 |\n",
      "|t3_7xhsal|4862 |\n",
      "|t3_80cf04|4851 |\n",
      "|t3_7udnnj|4734 |\n",
      "|t3_7yj8zx|4714 |\n",
      "|t3_7uipst|4682 |\n",
      "|t3_7xkstl|4616 |\n",
      "|t3_807t5g|4614 |\n",
      "|t3_7zipto|4560 |\n",
      "|t3_7xfn4g|4519 |\n",
      "|t3_7yzr6y|4518 |\n",
      "|t3_7yqc19|4508 |\n",
      "|t3_7z1bqb|4491 |\n",
      "|t3_7unkud|4412 |\n",
      "|t3_7w0gel|4403 |\n",
      "|t3_7xle0g|4398 |\n",
      "|t3_7ux0w7|4390 |\n",
      "|t3_7zrrg9|4389 |\n",
      "|t3_7xztxf|4304 |\n",
      "|t3_7y22az|4290 |\n",
      "|t3_808vlv|4281 |\n",
      "|t3_7wkmv6|4262 |\n",
      "|t3_7uqvoy|4204 |\n",
      "|t3_7y70f6|4160 |\n",
      "|t3_7tsppx|4153 |\n",
      "|t3_7x9k5p|4144 |\n",
      "|t3_7xnfgx|4129 |\n",
      "|t3_7x8f6u|4085 |\n",
      "|t3_805rn1|4070 |\n",
      "|t3_7vqgdh|4069 |\n",
      "|t3_7za5zj|4030 |\n",
      "|t3_7umydj|4019 |\n",
      "|t3_7wxdm8|3954 |\n",
      "|t3_7x3ync|3931 |\n",
      "|t3_7xcwbp|3840 |\n",
      "|t3_7w0nqy|3831 |\n",
      "|t3_7vujom|3822 |\n",
      "|t3_7xdvjy|3810 |\n",
      "|t3_7zsii8|3808 |\n",
      "|t3_7wbm98|3775 |\n",
      "|t3_7uu3xd|3742 |\n",
      "|t3_7woabh|3725 |\n",
      "|t3_7xbv7t|3719 |\n",
      "|t3_7wfcg6|3706 |\n",
      "|t3_80i7rt|3706 |\n",
      "|t3_7w9lzz|3676 |\n",
      "|t3_7vqoy9|3674 |\n",
      "+---------+-----+\n",
      "only showing top 100 rows\n",
      "\n"
     ]
    }
   ],
   "source": [
    "reddit_comments_data.groupby('parent_id').count().orderBy('count', ascending = False).show(100, truncate = False)"
   ]
  },
  {
   "cell_type": "markdown",
   "metadata": {},
   "source": [
    "## Score distribution : min, mean, max"
   ]
  },
  {
   "cell_type": "code",
   "execution_count": 65,
   "metadata": {},
   "outputs": [
    {
     "name": "stdout",
     "output_type": "stream",
     "text": [
      "+-----+\n",
      "|score|\n",
      "+-----+\n",
      "|60272|\n",
      "|57978|\n",
      "|49127|\n",
      "|48327|\n",
      "|46687|\n",
      "|44436|\n",
      "|44412|\n",
      "|44266|\n",
      "|43576|\n",
      "|42742|\n",
      "+-----+\n",
      "only showing top 10 rows\n",
      "\n"
     ]
    }
   ],
   "source": [
    "reddit_comments_data.orderBy('score', ascending = False).select('score').show(10)"
   ]
  },
  {
   "cell_type": "code",
   "execution_count": 66,
   "metadata": {},
   "outputs": [
    {
     "name": "stdout",
     "output_type": "stream",
     "text": [
      "+-----+\n",
      "|score|\n",
      "+-----+\n",
      "|-7632|\n",
      "|-2113|\n",
      "|-1992|\n",
      "|-1883|\n",
      "|-1862|\n",
      "|-1696|\n",
      "|-1693|\n",
      "|-1691|\n",
      "|-1654|\n",
      "|-1569|\n",
      "+-----+\n",
      "only showing top 10 rows\n",
      "\n"
     ]
    }
   ],
   "source": [
    "reddit_comments_data.orderBy('score').select('score').show(10)"
   ]
  },
  {
   "cell_type": "code",
   "execution_count": 67,
   "metadata": {},
   "outputs": [
    {
     "name": "stdout",
     "output_type": "stream",
     "text": [
      "+----------+\n",
      "|max(score)|\n",
      "+----------+\n",
      "|60272     |\n",
      "+----------+\n",
      "\n"
     ]
    }
   ],
   "source": [
    "reddit_comments_data.select(max(\"score\")).show(truncate=False)"
   ]
  },
  {
   "cell_type": "code",
   "execution_count": 68,
   "metadata": {},
   "outputs": [
    {
     "name": "stdout",
     "output_type": "stream",
     "text": [
      "+----------+\n",
      "|min(score)|\n",
      "+----------+\n",
      "|-7632     |\n",
      "+----------+\n",
      "\n"
     ]
    }
   ],
   "source": [
    "reddit_comments_data.select(min(\"score\")).show(truncate=False)"
   ]
  },
  {
   "cell_type": "code",
   "execution_count": 69,
   "metadata": {},
   "outputs": [
    {
     "name": "stdout",
     "output_type": "stream",
     "text": [
      "+-----------------+\n",
      "|avg(score)       |\n",
      "+-----------------+\n",
      "|8.893615222003953|\n",
      "+-----------------+\n",
      "\n"
     ]
    }
   ],
   "source": [
    "reddit_comments_data.select(mean(\"score\")).show(truncate=False)"
   ]
  },
  {
   "cell_type": "markdown",
   "metadata": {},
   "source": [
    "## Average score per author"
   ]
  },
  {
   "cell_type": "code",
   "execution_count": 72,
   "metadata": {},
   "outputs": [
    {
     "name": "stdout",
     "output_type": "stream",
     "text": [
      "+----------------+------------------+\n",
      "|          author|        avg(score)|\n",
      "+----------------+------------------+\n",
      "|       Aardvarkm|           44266.0|\n",
      "|      byrneeoinm|           29619.0|\n",
      "| YuckierAlmond16|           26164.0|\n",
      "|      vickster23|           24211.0|\n",
      "|          jomrib|           24159.0|\n",
      "|    discovery_as|           22325.0|\n",
      "|SingularityThrow|           19436.0|\n",
      "|        CoachWar|           17549.0|\n",
      "|  Hector_Moseley|           17087.0|\n",
      "|      Ebonyarnes|           16423.0|\n",
      "|     papatrudeau|           15698.0|\n",
      "|         krifter|           14170.5|\n",
      "|    spaghettttti|12740.333333333334|\n",
      "|   EwellTremblay|           12719.0|\n",
      "|          syerik|           12677.0|\n",
      "|     Tanyaendoza|           12570.0|\n",
      "|     dwarvenmonk|           12567.0|\n",
      "| CongressmanAkin|           11553.0|\n",
      "|       nolava006|           11492.0|\n",
      "|    KnightforceX|           11092.5|\n",
      "+----------------+------------------+\n",
      "only showing top 20 rows\n",
      "\n"
     ]
    }
   ],
   "source": [
    "reddit_comments_data.groupBy('author').agg({'score': 'mean'}).orderBy('avg(score)', ascending = False).show()"
   ]
  },
  {
   "cell_type": "markdown",
   "metadata": {},
   "source": [
    "## Authors with highest average score"
   ]
  },
  {
   "cell_type": "code",
   "execution_count": 73,
   "metadata": {},
   "outputs": [
    {
     "name": "stdout",
     "output_type": "stream",
     "text": [
      "+----------------+------------------+\n",
      "|          author|        avg(score)|\n",
      "+----------------+------------------+\n",
      "|       Aardvarkm|           44266.0|\n",
      "|      byrneeoinm|           29619.0|\n",
      "| YuckierAlmond16|           26164.0|\n",
      "|      vickster23|           24211.0|\n",
      "|          jomrib|           24159.0|\n",
      "|    discovery_as|           22325.0|\n",
      "|SingularityThrow|           19436.0|\n",
      "|        CoachWar|           17549.0|\n",
      "|  Hector_Moseley|           17087.0|\n",
      "|      Ebonyarnes|           16423.0|\n",
      "|     papatrudeau|           15698.0|\n",
      "|         krifter|           14170.5|\n",
      "|    spaghettttti|12740.333333333334|\n",
      "|   EwellTremblay|           12719.0|\n",
      "|          syerik|           12677.0|\n",
      "|     Tanyaendoza|           12570.0|\n",
      "|     dwarvenmonk|           12567.0|\n",
      "| CongressmanAkin|           11553.0|\n",
      "|       nolava006|           11492.0|\n",
      "|    KnightforceX|           11092.5|\n",
      "+----------------+------------------+\n",
      "only showing top 20 rows\n",
      "\n"
     ]
    }
   ],
   "source": [
    "reddit_comments_data.groupBy('author').agg({'score': 'mean'}).orderBy('avg(score)', ascending = False).show()"
   ]
  },
  {
   "cell_type": "markdown",
   "metadata": {},
   "source": [
    "## Authors with least average score"
   ]
  },
  {
   "cell_type": "code",
   "execution_count": 74,
   "metadata": {},
   "outputs": [
    {
     "name": "stdout",
     "output_type": "stream",
     "text": [
      "+-------------------+-------------------+\n",
      "|             author|         avg(score)|\n",
      "+-------------------+-------------------+\n",
      "|  nathanielfrankart|             -593.0|\n",
      "|       PunjabiIdiot|            -435.75|\n",
      "|   fuckyouquestbots| -427.6666666666667|\n",
      "|  EasternBackground| -379.0769230769231|\n",
      "|    Wolf-J-Flywheel|             -371.0|\n",
      "|       SpandexTerry|             -363.0|\n",
      "|        AntiDruid69|             -340.0|\n",
      "|             gjh03c|             -328.7|\n",
      "|      HipHopsRawest|             -317.0|\n",
      "|PopularConversation|             -288.0|\n",
      "|          Hammb0ner|             -268.0|\n",
      "|  IheartFrankCastle|             -267.0|\n",
      "|            Elpepee|             -263.0|\n",
      "|   ResurrectPerfect|             -259.0|\n",
      "|         Phil_Foden|             -257.0|\n",
      "|        seal_raider|             -254.0|\n",
      "|      etsukocyr21qi|             -246.0|\n",
      "|        goosecucker|             -246.0|\n",
      "|            nemnonn|             -242.0|\n",
      "|         Skinder506|-234.33333333333334|\n",
      "+-------------------+-------------------+\n",
      "only showing top 20 rows\n",
      "\n"
     ]
    }
   ],
   "source": [
    "reddit_comments_data.groupBy('author').agg({'score': 'mean'}).orderBy('avg(score)').show()"
   ]
  },
  {
   "cell_type": "markdown",
   "metadata": {},
   "source": [
    "## Converting created_utc to human redable time stamp using udf"
   ]
  },
  {
   "cell_type": "code",
   "execution_count": 8,
   "metadata": {
    "collapsed": true
   },
   "outputs": [],
   "source": [
    "def epoch_to_datetime_convert(epc):\n",
    "    ans = ''\n",
    "    try:\n",
    "        ans = time.strftime('%Y-%m-%d %H:%M:%S',time.localtime(int(str(epc))))[:10]\n",
    "    except:\n",
    "        ans = ''\n",
    "    return ans"
   ]
  },
  {
   "cell_type": "code",
   "execution_count": 9,
   "metadata": {
    "collapsed": true
   },
   "outputs": [],
   "source": [
    "date_convertor_udf = udf(epoch_to_datetime_convert, StringType())\n",
    "reddit_comments_data = reddit_comments_data.withColumn('created_date',date_convertor_udf(reddit_comments_data.created_utc))"
   ]
  },
  {
   "cell_type": "markdown",
   "metadata": {},
   "source": [
    "## Number of comments per day"
   ]
  },
  {
   "cell_type": "code",
   "execution_count": 94,
   "metadata": {},
   "outputs": [
    {
     "name": "stdout",
     "output_type": "stream",
     "text": [
      "+------------+-------+\n",
      "|created_date|  count|\n",
      "+------------+-------+\n",
      "|  2018-02-01|2236102|\n",
      "|  2018-02-02|3218517|\n",
      "|  2018-02-03|2828447|\n",
      "|  2018-02-04|2672928|\n",
      "|  2018-02-05|3088230|\n",
      "|  2018-02-06|3164176|\n",
      "|  2018-02-07|3281959|\n",
      "|  2018-02-08|3252789|\n",
      "|  2018-02-09|3235704|\n",
      "|  2018-02-10|2849012|\n",
      "|  2018-02-11|2703179|\n",
      "|  2018-02-12|2940371|\n",
      "|  2018-02-13|3182141|\n",
      "|  2018-02-14|3207624|\n",
      "|  2018-02-15|3121702|\n",
      "|  2018-02-16|3221064|\n",
      "|  2018-02-17|2820885|\n",
      "|  2018-02-18|3235221|\n",
      "|  2018-02-19|2935757|\n",
      "|  2018-02-20|3155683|\n",
      "|  2018-02-21|3279560|\n",
      "|  2018-02-22|3276864|\n",
      "|  2018-02-23|3299897|\n",
      "|  2018-02-24|2871687|\n",
      "|  2018-02-25|2751114|\n",
      "|  2018-02-26|3023099|\n",
      "|  2018-02-27|3269552|\n",
      "|  2018-02-28|3301033|\n",
      "|  2018-03-01| 981777|\n",
      "+------------+-------+\n",
      "\n"
     ]
    }
   ],
   "source": [
    "reddit_comments_data.groupBy('created_date').count().orderBy('created_date').show(100)"
   ]
  },
  {
   "cell_type": "code",
   "execution_count": 96,
   "metadata": {
    "collapsed": true
   },
   "outputs": [],
   "source": [
    "df_date_vs_count = reddit_comments_data.groupBy('created_date').count().orderBy('created_date').toPandas()"
   ]
  },
  {
   "cell_type": "code",
   "execution_count": 97,
   "metadata": {},
   "outputs": [
    {
     "data": {
      "text/html": [
       "<div>\n",
       "<style>\n",
       "    .dataframe thead tr:only-child th {\n",
       "        text-align: right;\n",
       "    }\n",
       "\n",
       "    .dataframe thead th {\n",
       "        text-align: left;\n",
       "    }\n",
       "\n",
       "    .dataframe tbody tr th {\n",
       "        vertical-align: top;\n",
       "    }\n",
       "</style>\n",
       "<table border=\"1\" class=\"dataframe\">\n",
       "  <thead>\n",
       "    <tr style=\"text-align: right;\">\n",
       "      <th></th>\n",
       "      <th>created_date</th>\n",
       "      <th>count</th>\n",
       "    </tr>\n",
       "  </thead>\n",
       "  <tbody>\n",
       "    <tr>\n",
       "      <th>0</th>\n",
       "      <td>2018-02-01</td>\n",
       "      <td>2236102</td>\n",
       "    </tr>\n",
       "    <tr>\n",
       "      <th>1</th>\n",
       "      <td>2018-02-02</td>\n",
       "      <td>3218517</td>\n",
       "    </tr>\n",
       "    <tr>\n",
       "      <th>2</th>\n",
       "      <td>2018-02-03</td>\n",
       "      <td>2828447</td>\n",
       "    </tr>\n",
       "    <tr>\n",
       "      <th>3</th>\n",
       "      <td>2018-02-04</td>\n",
       "      <td>2672928</td>\n",
       "    </tr>\n",
       "    <tr>\n",
       "      <th>4</th>\n",
       "      <td>2018-02-05</td>\n",
       "      <td>3088230</td>\n",
       "    </tr>\n",
       "  </tbody>\n",
       "</table>\n",
       "</div>"
      ],
      "text/plain": [
       "  created_date    count\n",
       "0   2018-02-01  2236102\n",
       "1   2018-02-02  3218517\n",
       "2   2018-02-03  2828447\n",
       "3   2018-02-04  2672928\n",
       "4   2018-02-05  3088230"
      ]
     },
     "execution_count": 97,
     "metadata": {},
     "output_type": "execute_result"
    }
   ],
   "source": [
    "df_date_vs_count.head()"
   ]
  },
  {
   "cell_type": "markdown",
   "metadata": {},
   "source": [
    "## How average score has varied with time"
   ]
  },
  {
   "cell_type": "code",
   "execution_count": 101,
   "metadata": {},
   "outputs": [
    {
     "data": {
      "image/png": "[encoded data removed]",
      "text/plain": [
       "<matplotlib.figure.Figure at 0x7f716e5b2240>"
      ]
     },
     "metadata": {},
     "output_type": "display_data"
    }
   ],
   "source": [
    "df_date_vs_count.plot(x='created_date', y= \"count\",kind='line')\n",
    "plt.show()"
   ]
  },
  {
   "cell_type": "markdown",
   "metadata": {},
   "source": [
    "## Sentiment Analysis using TextBlob by udf"
   ]
  },
  {
   "cell_type": "code",
   "execution_count": 10,
   "metadata": {
    "collapsed": true
   },
   "outputs": [],
   "source": [
    "def sentiment_extraction(text):\n",
    "    testimonial = TextBlob(str(text))\n",
    "    ts = testimonial.sentiment\n",
    "    return ts.polarity\n",
    "def subjectivity_extraction(text):\n",
    "    testimonial = TextBlob(str(text))\n",
    "    ts = testimonial.sentiment\n",
    "    return ts.subjectivity"
   ]
  },
  {
   "cell_type": "code",
   "execution_count": 11,
   "metadata": {
    "collapsed": true
   },
   "outputs": [],
   "source": [
    "senti_udf = udf(sentiment_extraction, FloatType())\n",
    "subj_udf = udf(subjectivity_extraction, FloatType())"
   ]
  },
  {
   "cell_type": "code",
   "execution_count": 12,
   "metadata": {
    "collapsed": true
   },
   "outputs": [],
   "source": [
    "reddit_comments_data = reddit_comments_data.withColumn('sentiment',senti_udf(reddit_comments_data.body))"
   ]
  },
  {
   "cell_type": "code",
   "execution_count": 13,
   "metadata": {
    "collapsed": true
   },
   "outputs": [],
   "source": [
    "reddit_comments_data = reddit_comments_data.withColumn('subjectivity',subj_udf(reddit_comments_data.body))"
   ]
  },
  {
   "cell_type": "code",
   "execution_count": 14,
   "metadata": {},
   "outputs": [
    {
     "name": "stdout",
     "output_type": "stream",
     "text": [
      "+--------------------+-----------+------------+\n",
      "|                body|  sentiment|subjectivity|\n",
      "+--------------------+-----------+------------+\n",
      "|Welcome to genera...|        0.8|         0.9|\n",
      "|             Welcome|        0.8|         0.9|\n",
      "|I'm 16 and the fr...|        0.0|         0.0|\n",
      "|What? It’s a nich...|        0.5|         0.5|\n",
      "|              solid!|        0.0|         0.1|\n",
      "|            I agree |        0.0|         0.0|\n",
      "|Dude its done the...|     -0.275|      0.5125|\n",
      "|That's what you c...|-0.32777777|  0.64444447|\n",
      "|           [deleted]|        0.0|         0.0|\n",
      "|I'm sorry that ha...| 0.12166667|      0.4375|\n",
      "+--------------------+-----------+------------+\n",
      "only showing top 10 rows\n",
      "\n"
     ]
    }
   ],
   "source": [
    "reddit_comments_data.select('body','sentiment','subjectivity').show(10)"
   ]
  },
  {
   "cell_type": "markdown",
   "metadata": {},
   "source": [
    "## Creating Hive Table For connecting with Tableau"
   ]
  },
  {
   "cell_type": "code",
   "execution_count": 15,
   "metadata": {
    "collapsed": true
   },
   "outputs": [],
   "source": [
    "reddit_comments_data.createOrReplaceTempView('tmp_reddit_df')"
   ]
  },
  {
   "cell_type": "code",
   "execution_count": 16,
   "metadata": {},
   "outputs": [
    {
     "name": "stdout",
     "output_type": "stream",
     "text": [
      "++\n",
      "||\n",
      "++\n",
      "++\n",
      "\n"
     ]
    }
   ],
   "source": [
    "query = spark_hive.sql('create table reddit_comments_data_hive as select * from tmp_reddit_df')\n",
    "query.show()"
   ]
  },
  {
   "cell_type": "markdown",
   "metadata": {},
   "source": [
    "## Which authors are having maximum average postive sentiment?"
   ]
  },
  {
   "cell_type": "code",
   "execution_count": null,
   "metadata": {
    "collapsed": true
   },
   "outputs": [],
   "source": [
    "reddit_comments_data.groupBy('author').agg({'sentiment':'mean'}).orderBy('avg(sentiment)', ascending = False).show()"
   ]
  },
  {
   "cell_type": "markdown",
   "metadata": {},
   "source": [
    "## Which authors are having maximum average subjectivity?"
   ]
  },
  {
   "cell_type": "code",
   "execution_count": null,
   "metadata": {
    "collapsed": true
   },
   "outputs": [],
   "source": [
    "reddit_comments_data.groupBy('author').agg({'subjectivity':'mean'}).orderBy('avg(sentiment)', ascending = False).show()"
   ]
  },
  {
   "cell_type": "markdown",
   "metadata": {},
   "source": [
    "## Which authors are having minimum average postive sentiment?"
   ]
  },
  {
   "cell_type": "code",
   "execution_count": null,
   "metadata": {
    "collapsed": true
   },
   "outputs": [],
   "source": [
    "reddit_comments_data.groupBy('author').agg({'sentiment':'mean'}).orderBy('avg(sentiment)').show()"
   ]
  },
  {
   "cell_type": "markdown",
   "metadata": {},
   "source": [
    "## Which authors are having minimum average subjectivity?"
   ]
  },
  {
   "cell_type": "code",
   "execution_count": null,
   "metadata": {
    "collapsed": true
   },
   "outputs": [],
   "source": [
    "reddit_comments_data.groupBy('author').agg({'subjectivity':'mean'}).orderBy('avg(sentiment)').show()"
   ]
  },
  {
   "cell_type": "markdown",
   "metadata": {},
   "source": [
    "## How average sentiment has varied with time?"
   ]
  },
  {
   "cell_type": "code",
   "execution_count": null,
   "metadata": {
    "collapsed": true
   },
   "outputs": [],
   "source": [
    "df_date_vs_sentiment = reddit_comments_data.groupBy('created_date').agg({'sentiment':'mean'}).orderBy('created_date').toPandas()\n",
    "plt.clf()\n",
    "df_date_vs_sentiment.plot(x='created_date', y= \"count\",kind='line')\n",
    "plt.show()"
   ]
  },
  {
   "cell_type": "code",
   "execution_count": null,
   "metadata": {
    "collapsed": true
   },
   "outputs": [],
   "source": [
    "#Plot is done using Tableau, please refer to slides for details"
   ]
  },
  {
   "cell_type": "markdown",
   "metadata": {},
   "source": [
    "## How average subjectivity has varied with time?"
   ]
  },
  {
   "cell_type": "code",
   "execution_count": null,
   "metadata": {
    "collapsed": true
   },
   "outputs": [],
   "source": [
    "df_date_vs_subj = reddit_comments_data.groupBy('created_date').agg({'subjectivity':'mean'}).orderBy('created_date').toPandas()\n",
    "plt.clf()\n",
    "df_date_vs_subj.plot(x='created_date', y= \"count\",kind='line')\n",
    "plt.show()"
   ]
  },
  {
   "cell_type": "code",
   "execution_count": null,
   "metadata": {
    "collapsed": true
   },
   "outputs": [],
   "source": [
    "#Plot is done using Tableau, please refer to slides for details"
   ]
  },
  {
   "cell_type": "markdown",
   "metadata": {},
   "source": [
    "# Future Work"
   ]
  },
  {
   "cell_type": "code",
   "execution_count": null,
   "metadata": {
    "collapsed": true
   },
   "outputs": [],
   "source": [
    "#[AFTER]\n",
    "##1) Sentiment analysis using stanford data\n",
    "# https://cs.stanford.edu/people/alecmgo/trainingandtestdata.zip\n",
    "##2) Popular author detection"
   ]
  }
 ],
 "metadata": {
  "kernelspec": {
   "display_name": "Python 3",
   "language": "python",
   "name": "python3"
  },
  "language_info": {
   "codemirror_mode": {
    "name": "ipython",
    "version": 3
   },
   "file_extension": ".py",
   "mimetype": "text/x-python",
   "name": "python",
   "nbconvert_exporter": "python",
   "pygments_lexer": "ipython3",
   "version": "3.6.3"
  }
 },
 "nbformat": 4,
 "nbformat_minor": 2
}
